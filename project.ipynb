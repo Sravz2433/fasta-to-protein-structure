{
 "cells": [
  {
   "cell_type": "code",
   "execution_count": 1,
   "metadata": {},
   "outputs": [
    {
     "name": "stdout",
     "output_type": "stream",
     "text": [
      "Cleaned Sequence: GSHMSKGEELFTGVVPILVELDGDVNGHKFSVSGEGEGDATYGKLTLKFICTTGKLPVPWPTLVTTFGYGVQCFARYPDHMKQHDFFKSAMPEGYVQERTIFFKDDGNYKTRAEVKFEGDTLVNRIELKGIDFKEDGNILGHKLEYNYNSHNVYIMADKQKNGIKVNFKIRHNIEDGSVQLADHYQQNTPIGDGPVLLPDNHYLSTQSALSKDPNEKRDHMVLLEFVTAAGIAAARNLQDDLQDFLALIPVDQIIAIATDYLANDAEVQAAVAYLQSDEFETIVVALDALPELQNFLNFLEANGLNAIDFLNGIHDLLGIPHIPVSGRKYHIRRGVGITGLIDDVLAILPIEDLKALFNEKLETSPDFLALYNAIRSPEFQSIVQTLNAMPEYQNLLQKLREKGVDVDKIIELIRALF\n"
     ]
    }
   ],
   "source": [
    "import numpy as np\n",
    "from Bio import SeqIO\n",
    "\n",
    "# Define valid amino acids\n",
    "valid_amino_acids = \"ARNDCQEGHILKMFPSTWYV\"\n",
    "\n",
    "def preprocess_fasta(fasta_file):\n",
    "    \"\"\"\n",
    "    Reads a FASTA file and filters out non-standard amino acids.\n",
    "    \"\"\"\n",
    "    sequence = \"\"\n",
    "\n",
    "    # Read FASTA file properly\n",
    "    for record in SeqIO.parse(fasta_file, \"fasta\"):\n",
    "        sequence += str(record.seq)\n",
    "\n",
    "    # Keep only valid amino acids\n",
    "    filtered_sequence = \"\".join([aa for aa in sequence if aa in valid_amino_acids])\n",
    "\n",
    "    if len(filtered_sequence) == 0:\n",
    "        raise ValueError(\"❌ Error: No valid amino acids found in input sequence!\")\n",
    "\n",
    "    return filtered_sequence\n",
    "\n",
    "# Example usage\n",
    "fasta_file = r\"data\\rcsb_pdb_4JRB.fasta\"\n",
    "raw_sequence = preprocess_fasta(fasta_file)\n",
    "print(\"Cleaned Sequence:\", raw_sequence)\n"
   ]
  },
  {
   "cell_type": "code",
   "execution_count": 2,
   "metadata": {},
   "outputs": [],
   "source": [
    "hydrophobic_residues = {'A', 'V', 'I', 'L', 'M', 'F', 'W'}\n",
    "polar_residues = {'S', 'T', 'Y', 'N', 'Q'}\n",
    "charged_residues = {'R', 'K', 'D', 'E'}"
   ]
  },
  {
   "cell_type": "code",
   "execution_count": 3,
   "metadata": {},
   "outputs": [
    {
     "name": "stdout",
     "output_type": "stream",
     "text": [
      "✅ SVM Feature Extraction Complete!\n"
     ]
    }
   ],
   "source": [
    "from sklearn.svm import SVC\n",
    "import numpy as np\n",
    "\n",
    "def extract_features(sequence):\n",
    "    \"\"\"\n",
    "    Converts amino acid sequence into a feature vector.\n",
    "    \"\"\"\n",
    "    features = []\n",
    "    for aa in sequence:\n",
    "        features.append([\n",
    "            1 if aa in hydrophobic_residues else 0,\n",
    "            1 if aa in polar_residues else 0,\n",
    "            1 if aa in charged_residues else 0\n",
    "        ])\n",
    "    return np.array(features)\n",
    "\n",
    "# Train an SVM to predict secondary structure tendencies\n",
    "X_train = extract_features(raw_sequence)  # Convert sequence to feature vectors\n",
    "y_train = np.random.randint(0, 2, size=len(X_train))  # Placeholder labels\n",
    "\n",
    "svm_model = SVC(kernel='linear')\n",
    "svm_model.fit(X_train, y_train)\n",
    "\n",
    "print(\"✅ SVM Feature Extraction Complete!\")\n"
   ]
  },
  {
   "cell_type": "code",
   "execution_count": 4,
   "metadata": {},
   "outputs": [
    {
     "name": "stdout",
     "output_type": "stream",
     "text": [
      "✅ Successfully placed all residues!\n"
     ]
    }
   ],
   "source": [
    "import numpy as np\n",
    "\n",
    "def initialize_positions(sequence, min_distance=1.0, scale=5.0, max_attempts=5000):\n",
    "    \"\"\"\n",
    "    Initializes 3D positions for residues ensuring minimum distance constraints.\n",
    "    Tries multiple times before failing.\n",
    "    \"\"\"\n",
    "    positions = []\n",
    "    \n",
    "    for aa in sequence:\n",
    "        for _ in range(max_attempts):  # Try multiple times before failing\n",
    "            new_position = np.random.uniform(-scale, scale, 3)  # Spread positions out more\n",
    "            \n",
    "            # Check minimum distance constraint\n",
    "            if all(np.linalg.norm(new_position - np.array(p)) >= min_distance for p in positions):\n",
    "                positions.append(new_position)\n",
    "                break\n",
    "        else:\n",
    "            print(f\"❌ Failed to place residue '{aa}' after {max_attempts} attempts.\")\n",
    "            return np.array(positions)  # Return partial positions instead of failing completely\n",
    "\n",
    "    return np.array(positions)\n",
    "\n",
    "positions = initialize_positions(raw_sequence, min_distance=1.0, scale=5.0)\n",
    "\n",
    "if positions.shape[0] == len(raw_sequence):\n",
    "    print(\"✅ Successfully placed all residues!\")\n",
    "else:\n",
    "    print(\"⚠️ Some residues were not placed. Try adjusting `min_distance` or `scale`.\")\n"
   ]
  },
  {
   "cell_type": "code",
   "execution_count": 1,
   "metadata": {},
   "outputs": [
    {
     "ename": "ModuleNotFoundError",
     "evalue": "No module named 'omegaconf'",
     "output_type": "error",
     "traceback": [
      "\u001b[1;31m---------------------------------------------------------------------------\u001b[0m",
      "\u001b[1;31mModuleNotFoundError\u001b[0m                       Traceback (most recent call last)",
      "Cell \u001b[1;32mIn[1], line 4\u001b[0m\n\u001b[0;32m      1\u001b[0m \u001b[38;5;28;01mimport\u001b[39;00m \u001b[38;5;21;01mtorch\u001b[39;00m\n\u001b[0;32m      2\u001b[0m \u001b[38;5;28;01mimport\u001b[39;00m \u001b[38;5;21;01mesm\u001b[39;00m\n\u001b[1;32m----> 4\u001b[0m model \u001b[38;5;241m=\u001b[39m \u001b[43mesm\u001b[49m\u001b[38;5;241;43m.\u001b[39;49m\u001b[43mpretrained\u001b[49m\u001b[38;5;241;43m.\u001b[39;49m\u001b[43mesmfold_v1\u001b[49m\u001b[43m(\u001b[49m\u001b[43m)\u001b[49m\n\u001b[0;32m      5\u001b[0m model \u001b[38;5;241m=\u001b[39m model\u001b[38;5;241m.\u001b[39meval()\u001b[38;5;241m.\u001b[39mcuda()\n\u001b[0;32m      7\u001b[0m \u001b[38;5;66;03m# Optionally, uncomment to set a chunk size for axial attention. This can help reduce memory.\u001b[39;00m\n\u001b[0;32m      8\u001b[0m \u001b[38;5;66;03m# Lower sizes will have lower memory requirements at the cost of increased speed.\u001b[39;00m\n\u001b[0;32m      9\u001b[0m \u001b[38;5;66;03m# model.set_chunk_size(128)\u001b[39;00m\n",
      "File \u001b[1;32m~\\AppData\\Local\\Packages\\PythonSoftwareFoundation.Python.3.11_qbz5n2kfra8p0\\LocalCache\\local-packages\\Python311\\site-packages\\esm\\pretrained.py:419\u001b[0m, in \u001b[0;36mesmfold_v1\u001b[1;34m()\u001b[0m\n\u001b[0;32m    411\u001b[0m \u001b[38;5;28;01mdef\u001b[39;00m \u001b[38;5;21mesmfold_v1\u001b[39m():\n\u001b[0;32m    412\u001b[0m \u001b[38;5;250m    \u001b[39m\u001b[38;5;124;03m\"\"\"\u001b[39;00m\n\u001b[0;32m    413\u001b[0m \u001b[38;5;124;03m    ESMFold v1 model using 3B ESM-2, 48 folding blocks.\u001b[39;00m\n\u001b[0;32m    414\u001b[0m \u001b[38;5;124;03m    ESMFold provides fast high accuracy atomic level structure prediction\u001b[39;00m\n\u001b[1;32m   (...)\u001b[0m\n\u001b[0;32m    417\u001b[0m \u001b[38;5;124;03m    protein sequence.\u001b[39;00m\n\u001b[0;32m    418\u001b[0m \u001b[38;5;124;03m    \"\"\"\u001b[39;00m\n\u001b[1;32m--> 419\u001b[0m     \u001b[38;5;28;01mimport\u001b[39;00m \u001b[38;5;21;01mesm\u001b[39;00m\u001b[38;5;21;01m.\u001b[39;00m\u001b[38;5;21;01mesmfold\u001b[39;00m\u001b[38;5;21;01m.\u001b[39;00m\u001b[38;5;21;01mv1\u001b[39;00m\u001b[38;5;21;01m.\u001b[39;00m\u001b[38;5;21;01mpretrained\u001b[39;00m\n\u001b[0;32m    420\u001b[0m     \u001b[38;5;28;01mreturn\u001b[39;00m esm\u001b[38;5;241m.\u001b[39mesmfold\u001b[38;5;241m.\u001b[39mv1\u001b[38;5;241m.\u001b[39mpretrained\u001b[38;5;241m.\u001b[39mesmfold_v1()\n",
      "File \u001b[1;32m~\\AppData\\Local\\Packages\\PythonSoftwareFoundation.Python.3.11_qbz5n2kfra8p0\\LocalCache\\local-packages\\Python311\\site-packages\\esm\\esmfold\\v1\\pretrained.py:5\u001b[0m\n\u001b[0;32m      1\u001b[0m \u001b[38;5;28;01mfrom\u001b[39;00m \u001b[38;5;21;01mpathlib\u001b[39;00m \u001b[38;5;28;01mimport\u001b[39;00m Path\n\u001b[0;32m      3\u001b[0m \u001b[38;5;28;01mimport\u001b[39;00m \u001b[38;5;21;01mtorch\u001b[39;00m\n\u001b[1;32m----> 5\u001b[0m \u001b[38;5;28;01mfrom\u001b[39;00m \u001b[38;5;21;01mesm\u001b[39;00m\u001b[38;5;21;01m.\u001b[39;00m\u001b[38;5;21;01mesmfold\u001b[39;00m\u001b[38;5;21;01m.\u001b[39;00m\u001b[38;5;21;01mv1\u001b[39;00m\u001b[38;5;21;01m.\u001b[39;00m\u001b[38;5;21;01mesmfold\u001b[39;00m \u001b[38;5;28;01mimport\u001b[39;00m ESMFold\n\u001b[0;32m      8\u001b[0m \u001b[38;5;28;01mdef\u001b[39;00m \u001b[38;5;21m_load_model\u001b[39m(model_name):\n\u001b[0;32m      9\u001b[0m     \u001b[38;5;28;01mif\u001b[39;00m model_name\u001b[38;5;241m.\u001b[39mendswith(\u001b[38;5;124m\"\u001b[39m\u001b[38;5;124m.pt\u001b[39m\u001b[38;5;124m\"\u001b[39m):  \u001b[38;5;66;03m# local, treat as filepath\u001b[39;00m\n",
      "File \u001b[1;32m~\\AppData\\Local\\Packages\\PythonSoftwareFoundation.Python.3.11_qbz5n2kfra8p0\\LocalCache\\local-packages\\Python311\\site-packages\\esm\\esmfold\\v1\\esmfold.py:10\u001b[0m\n\u001b[0;32m      8\u001b[0m \u001b[38;5;28;01mimport\u001b[39;00m \u001b[38;5;21;01mtorch\u001b[39;00m\n\u001b[0;32m      9\u001b[0m \u001b[38;5;28;01mimport\u001b[39;00m \u001b[38;5;21;01mtorch\u001b[39;00m\u001b[38;5;21;01m.\u001b[39;00m\u001b[38;5;21;01mnn\u001b[39;00m \u001b[38;5;28;01mas\u001b[39;00m \u001b[38;5;21;01mnn\u001b[39;00m\n\u001b[1;32m---> 10\u001b[0m \u001b[38;5;28;01mfrom\u001b[39;00m \u001b[38;5;21;01momegaconf\u001b[39;00m \u001b[38;5;28;01mimport\u001b[39;00m MISSING\n\u001b[0;32m     11\u001b[0m \u001b[38;5;28;01mfrom\u001b[39;00m \u001b[38;5;21;01mopenfold\u001b[39;00m\u001b[38;5;21;01m.\u001b[39;00m\u001b[38;5;21;01mdata\u001b[39;00m\u001b[38;5;21;01m.\u001b[39;00m\u001b[38;5;21;01mdata_transforms\u001b[39;00m \u001b[38;5;28;01mimport\u001b[39;00m make_atom14_masks\n\u001b[0;32m     12\u001b[0m \u001b[38;5;28;01mfrom\u001b[39;00m \u001b[38;5;21;01mopenfold\u001b[39;00m\u001b[38;5;21;01m.\u001b[39;00m\u001b[38;5;21;01mnp\u001b[39;00m \u001b[38;5;28;01mimport\u001b[39;00m residue_constants\n",
      "\u001b[1;31mModuleNotFoundError\u001b[0m: No module named 'omegaconf'"
     ]
    }
   ],
   "source": [
    "\n",
    "import torch\n",
    "import esm\n",
    "\n",
    "model = esm.pretrained.esmfold_v1()\n",
    "model = model.eval().cuda()\n",
    "\n",
    "# Optionally, uncomment to set a chunk size for axial attention. This can help reduce memory.\n",
    "# Lower sizes will have lower memory requirements at the cost of increased speed.\n",
    "# model.set_chunk_size(128)\n",
    "\n",
    "sequence = \"MKTVRQERLKSIVRILERSKEPVSGAQLAEELSVSRQVIVQDIAYLRSLGYNIVATPRGYVLAGG\"\n",
    "# Multimer prediction can be done with chains separated by ':'\n",
    "\n",
    "with torch.no_grad():\n",
    "    output = model.infer_pdb(sequence)\n",
    "\n",
    "with open(\"result.pdb\", \"w\") as f:\n",
    "    f.write(output)\n",
    "\n",
    "import biotite.structure.io as bsio\n",
    "struct = bsio.load_structure(\"result.pdb\", extra_fields=[\"b_factor\"])\n",
    "print(struct.b_factor.mean())  # this will be the pLDDT\n",
    "# 88.3"
   ]
  },
  {
   "cell_type": "code",
   "execution_count": 112,
   "metadata": {},
   "outputs": [],
   "source": [
    "import MDAnalysis as mda\n",
    "\n",
    "# Load AI-generated structure\n",
    "u = mda.Universe(\"ai_generated_structure.pdb\")\n",
    "\n",
    "# Select atoms\n",
    "ca_atoms = u.select_atoms(\"name CA\")\n",
    "\n",
    "# Initialize positions\n",
    "positions = ca_atoms.positions.copy()\n",
    "\n",
    "\n",
    "\n"
   ]
  },
  {
   "cell_type": "code",
   "execution_count": 116,
   "metadata": {},
   "outputs": [],
   "source": [
    "import numpy as np\n",
    "\n",
    "def enforce_peptide_constraints(positions, sequence):\n",
    "    \"\"\"\n",
    "    Ensures proper backbone angles and prevents unnatural peptide bond distortions.\n",
    "    \"\"\"\n",
    "    epsilon = 1e-6  # Avoid division by zero\n",
    "    constraints = np.zeros_like(positions)\n",
    "\n",
    "    for i in range(len(positions) - 1):\n",
    "        diff = positions[i+1] - positions[i]\n",
    "        distance = np.linalg.norm(diff) + epsilon\n",
    "        \n",
    "        # Enforce peptide bond length (~1.32 Å for CA-CA distance)\n",
    "        ideal_length = 1.32\n",
    "        correction_factor = (distance - ideal_length) / distance\n",
    "        constraints[i] += diff * correction_factor\n",
    "\n",
    "    return positions - constraints  # Adjust positions to enforce constraints\n",
    "\n",
    "# Apply constraints to the AI-predicted structure\n",
    "positions = enforce_peptide_constraints(positions, raw_sequence)\n"
   ]
  },
  {
   "cell_type": "code",
   "execution_count": 117,
   "metadata": {},
   "outputs": [
    {
     "name": "stdout",
     "output_type": "stream",
     "text": [
      "Detected 4 hydrogen bonds.\n"
     ]
    }
   ],
   "source": [
    "def detect_hydrogen_bonds(positions, sequence):\n",
    "    \"\"\"\n",
    "    Identifies hydrogen bonds between amino acids.\n",
    "    \"\"\"\n",
    "    hydrogen_bonds = []\n",
    "    for i, _ in enumerate(sequence):\n",
    "        for j in range(i + 4, len(sequence)):  # Minimum spacing for alpha-helix\n",
    "            distance = np.linalg.norm(positions[i] - positions[j])\n",
    "            if 2.5 < distance < 3.5:  # Hydrogen bond distance range\n",
    "                hydrogen_bonds.append((i, j))\n",
    "    \n",
    "    print(f\"Detected {len(hydrogen_bonds)} hydrogen bonds.\")\n",
    "    return hydrogen_bonds\n",
    "\n",
    "# Detect hydrogen bonds in AI-predicted structure\n",
    "hydrogen_bonds = detect_hydrogen_bonds(positions, raw_sequence)\n"
   ]
  },
  {
   "cell_type": "code",
   "execution_count": 118,
   "metadata": {},
   "outputs": [],
   "source": [
    "def cluster_hydrophobic_core(positions, sequence):\n",
    "    \"\"\"\n",
    "    Adjusts positions of hydrophobic residues to drive core formation.\n",
    "    \"\"\"\n",
    "    for i, residue in enumerate(sequence):\n",
    "        if residue in hydrophobic_residues:\n",
    "            positions[i] -= 1.0  # Move inward\n",
    "    return positions\n",
    "\n",
    "# Apply hydrophobic clustering\n",
    "positions = cluster_hydrophobic_core(positions, raw_sequence)\n"
   ]
  },
  {
   "cell_type": "code",
   "execution_count": 119,
   "metadata": {},
   "outputs": [],
   "source": [
    "# def enforce_quaternary_interactions(positions, chains):\n",
    "#     \"\"\"\n",
    "#     Adjusts inter-chain distances to ensure proper quaternary structure formation.\n",
    "#     \"\"\"\n",
    "#     for chain_a, chain_b in chains:\n",
    "#         for i in chain_a:\n",
    "#             for j in chain_b:\n",
    "#                 distance = np.linalg.norm(positions[i] - positions[j])\n",
    "#                 if distance < 3.0:  # Prevent steric clashes\n",
    "#                     positions[i] += 0.5  # Push apart slightly\n",
    "#     return positions\n",
    "\n",
    "# # Example: Two chains A & B\n",
    "# chains = [(range(0, 50), range(50, 100))]  # Example chain indices\n",
    "# positions = enforce_quaternary_interactions(positions, chains)\n"
   ]
  },
  {
   "cell_type": "code",
   "execution_count": 120,
   "metadata": {},
   "outputs": [],
   "source": [
    "helix_formers = {'A', 'L', 'M', 'E', 'Q', 'K', 'R'}\n",
    "sheet_formers = {'V', 'I', 'Y', 'F', 'C', 'T', 'W'}\n",
    "helix_breakers = {'P', 'G'}\n"
   ]
  },
  {
   "cell_type": "code",
   "execution_count": 121,
   "metadata": {},
   "outputs": [],
   "source": [
    "def calculate_energy(positions, sequence):\n",
    "    \"\"\"\n",
    "    Physics-based scoring function for structure optimization.\n",
    "    \"\"\"\n",
    "    epsilon = 1e-6  \n",
    "    energy = 0\n",
    "\n",
    "    for i, residue1 in enumerate(sequence):\n",
    "        for j, residue2 in enumerate(sequence):\n",
    "            if i < j:\n",
    "                distance = np.linalg.norm(positions[i] - positions[j]) + epsilon\n",
    "                \n",
    "                # Hydrophobic interactions\n",
    "                if residue1 in helix_formers and residue2 in helix_formers:\n",
    "                    energy -= 1 / distance  # Favor close helix-forming residues\n",
    "\n",
    "                # Electrostatic interactions\n",
    "                if (residue1 in {'R', 'K'} and residue2 in {'D', 'E'}) or \\\n",
    "                   (residue1 in {'D', 'E'} and residue2 in {'R', 'K'}):\n",
    "                    energy -= 2 / distance  # Opposite charge attraction\n",
    "\n",
    "                # Steric clashes\n",
    "                if distance < 1.5:\n",
    "                    energy += 10 / (distance**2)  # Penalize steric clashes\n",
    "\n",
    "    return energy\n"
   ]
  },
  {
   "cell_type": "code",
   "execution_count": 123,
   "metadata": {},
   "outputs": [
    {
     "name": "stdout",
     "output_type": "stream",
     "text": [
      "Hydrophobic Force Scale: 0.492\n",
      "Electrostatic Force Scale: 0.311\n",
      "Repulsion Force Scale: 0.264\n",
      "Hydrogen Bonding Scale: 0.296\n"
     ]
    }
   ],
   "source": [
    "import numpy as np\n",
    "\n",
    "# Define amino acid property groups\n",
    "hydrophobic_residues = {'A', 'V', 'I', 'L', 'M', 'F', 'W', 'C', 'Y'}\n",
    "charged_residues = {'R', 'K', 'D', 'E'}\n",
    "polar_residues = {'S', 'T', 'N', 'Q', 'Y'}\n",
    "bulky_residues = {'F', 'Y', 'W', 'R', 'K'}\n",
    "hydrogen_bond_donors = {'S', 'T', 'N', 'Q', 'Y'}\n",
    "\n",
    "def compute_force_scales(sequence):\n",
    "    \"\"\"\n",
    "    Computes the scaling factors for hydrophobic, electrostatic, repulsion, \n",
    "    and hydrogen bonding forces based on sequence composition.\n",
    "    \"\"\"\n",
    "    total_length = len(sequence)\n",
    "    \n",
    "    if total_length == 0:\n",
    "        raise ValueError(\"Empty sequence provided!\")\n",
    "\n",
    "    # Calculate fractions\n",
    "    hydrophobic_fraction = sum(1 for aa in sequence if aa in hydrophobic_residues) / total_length\n",
    "    charged_fraction = sum(1 for aa in sequence if aa in charged_residues) / total_length\n",
    "    bulky_fraction = sum(1 for aa in sequence if aa in bulky_residues) / total_length\n",
    "    hydrogen_bond_fraction = sum(1 for aa in sequence if aa in hydrogen_bond_donors) / total_length\n",
    "\n",
    "    # Normalize values between 0.1 and 1.0\n",
    "    hydrophobic_force_scale = 0.1 + 0.9 * hydrophobic_fraction\n",
    "    electrostatic_force_scale = 0.1 + 0.9 * charged_fraction\n",
    "    repulsion_scale = 0.1 + 0.9 * bulky_fraction\n",
    "    hydrogen_bond_scale = 0.1 + 0.9 * hydrogen_bond_fraction\n",
    "\n",
    "    return hydrophobic_force_scale, electrostatic_force_scale, repulsion_scale, hydrogen_bond_scale\n",
    "\n",
    "# Compute force scaling factors\n",
    "hydrophobic_scale, electrostatic_scale, repulsion_scale, hydrogen_bond_scale = compute_force_scales(raw_sequence)\n",
    "\n",
    "# Print results\n",
    "print(f\"Hydrophobic Force Scale: {hydrophobic_scale:.3f}\")\n",
    "print(f\"Electrostatic Force Scale: {electrostatic_scale:.3f}\")\n",
    "print(f\"Repulsion Force Scale: {repulsion_scale:.3f}\")\n",
    "print(f\"Hydrogen Bonding Scale: {hydrogen_bond_scale:.3f}\")\n"
   ]
  },
  {
   "cell_type": "code",
   "execution_count": 124,
   "metadata": {},
   "outputs": [
    {
     "name": "stdout",
     "output_type": "stream",
     "text": [
      "Iteration 0: Energy = -280.0836\n",
      "Iteration 100: Energy = -277.6806\n",
      "Iteration 200: Energy = -276.8194\n",
      "Iteration 300: Energy = -276.5065\n",
      "Iteration 400: Energy = -276.3923\n",
      "Iteration 500: Energy = -276.3506\n",
      "Iteration 600: Energy = -276.3353\n",
      "Iteration 700: Energy = -276.3297\n",
      "Iteration 800: Energy = -276.3276\n",
      "Iteration 900: Energy = -276.3269\n"
     ]
    }
   ],
   "source": [
    "def optimize_positions(positions, sequence, iterations=1000, learning_rate=0.01):\n",
    "    \"\"\"\n",
    "    Monte Carlo-based energy minimization to refine AI-generated structure.\n",
    "    \"\"\"\n",
    "    epsilon = 1e-6  \n",
    "  \n",
    "    for iter in range(iterations):\n",
    "        gradients = np.zeros_like(positions)\n",
    "\n",
    "        for i, residue in enumerate(sequence):\n",
    "            for j in range(len(sequence)):\n",
    "                if i != j:\n",
    "                    diff = positions[i] - positions[j]\n",
    "                    distance = np.linalg.norm(diff) + epsilon\n",
    "\n",
    "                    # Hydrophobic interactions\n",
    "                    if residue in helix_formers and sequence[j] in helix_formers:\n",
    "                        gradients[i] -= hydrophobic_scale * (diff / distance**2)\n",
    "\n",
    "                    # Electrostatic interactions\n",
    "                    if (residue in {'R', 'K'} and sequence[j] in {'D', 'E'}) or \\\n",
    "                       (residue in {'D', 'E'} and sequence[j] in {'R', 'K'}):\n",
    "                        gradients[i] -= electrostatic_scale * (diff / distance**2)\n",
    "\n",
    "                    # Steric clash repulsion\n",
    "                    if distance < 1.5:\n",
    "                        gradients[i] += repulsion_scale * (diff / distance**3)\n",
    "\n",
    "        # Update positions\n",
    "        positions -= learning_rate * gradients\n",
    "        learning_rate *= 0.99  # Decay learning rate\n",
    "\n",
    "        # Monitor energy every 100 iterations\n",
    "        if iter % 100 == 0:\n",
    "            energy = calculate_energy(positions, sequence)\n",
    "            print(f\"Iteration {iter}: Energy = {energy:.4f}\")\n",
    "\n",
    "    return positions\n",
    "\n",
    "optimize_positions = optimize_positions(positions, raw_sequence)"
   ]
  },
  {
   "cell_type": "code",
   "execution_count": 101,
   "metadata": {},
   "outputs": [
    {
     "name": "stdout",
     "output_type": "stream",
     "text": [
      "Predicted structure saved to predicted_structure.pdb\n"
     ]
    }
   ],
   "source": [
    "import torch\n",
    "import numpy as np\n",
    "\n",
    "def save_pdb(coords, sequence, output_file=\"predicted_structure.pdb\"):\n",
    "    \"\"\"\n",
    "    Saves predicted coordinates as a PDB file with the correct residue names.\n",
    "\n",
    "    Args:\n",
    "        coords (np.ndarray): Predicted 3D coordinates of shape (seq_length, 3).\n",
    "        sequence (str): Raw amino acid sequence (single-letter code).\n",
    "        output_file (str): File path to save the PDB file.\n",
    "    \"\"\"\n",
    "    # Mapping of single-letter amino acids to three-letter codes\n",
    "    aa_to_three_letter = {\n",
    "        \"A\": \"ALA\", \"C\": \"CYS\", \"D\": \"ASP\", \"E\": \"GLU\", \"F\": \"PHE\",\n",
    "        \"G\": \"GLY\", \"H\": \"HIS\", \"I\": \"ILE\", \"K\": \"LYS\", \"L\": \"LEU\",\n",
    "        \"M\": \"MET\", \"N\": \"ASN\", \"P\": \"PRO\", \"Q\": \"GLN\", \"R\": \"ARG\",\n",
    "        \"S\": \"SER\", \"T\": \"THR\", \"V\": \"VAL\", \"W\": \"TRP\", \"Y\": \"TYR\"\n",
    "    }\n",
    "\n",
    "    # Ensure coordinates are a NumPy array\n",
    "    if isinstance(coords, torch.Tensor):\n",
    "        coords = coords.detach().cpu().numpy()\n",
    "\n",
    "    # Save PDB\n",
    "    with open(output_file, \"w\") as f:\n",
    "        for i, (x, y, z) in enumerate(coords, start=1):\n",
    "            aa = aa_to_three_letter.get(sequence[i - 1], \"UNK\")  # Get three-letter code\n",
    "            f.write(\n",
    "                f\"ATOM  {i:5d}  CA  {aa} A{i:4d}    {x:8.3f}{y:8.3f}{z:8.3f}  1.00  0.00           C\\n\"\n",
    "            )\n",
    "        f.write(\"TER\\nEND\\n\")\n",
    "\n",
    "# Example Usage\n",
    "predicted_coords = np.random.rand(len(raw_sequence), 3) * 10  # Dummy structure for testing\n",
    "save_pdb(predicted_coords, raw_sequence, \"predicted_structure.pdb\")\n",
    "print(\"Predicted structure saved to predicted_structure.pdb\")\n"
   ]
  },
  {
   "cell_type": "code",
   "execution_count": 1,
   "metadata": {},
   "outputs": [
    {
     "name": "stderr",
     "output_type": "stream",
     "text": [
      "C:\\Users\\sravy\\AppData\\Local\\Packages\\PythonSoftwareFoundation.Python.3.11_qbz5n2kfra8p0\\LocalCache\\local-packages\\Python311\\site-packages\\MDAnalysis\\topology\\PDBParser.py:350: UserWarning: Element information is missing, elements attribute will not be populated. If needed these can be guessed using universe.guess_TopologyAttrs(context='default', to_guess=['elements']).\n",
      "  warnings.warn(\"Element information is missing, elements attribute \"\n",
      "C:\\Users\\sravy\\AppData\\Local\\Packages\\PythonSoftwareFoundation.Python.3.11_qbz5n2kfra8p0\\LocalCache\\local-packages\\Python311\\site-packages\\MDAnalysis\\coordinates\\PDB.py:453: UserWarning: 1 A^3 CRYST1 record, this is usually a placeholder. Unit cell dimensions will be set to None.\n",
      "  warnings.warn(\"1 A^3 CRYST1 record,\"\n"
     ]
    },
    {
     "ename": "ValueError",
     "evalue": "a and b must have same shape",
     "output_type": "error",
     "traceback": [
      "\u001b[1;31m---------------------------------------------------------------------------\u001b[0m",
      "\u001b[1;31mValueError\u001b[0m                                Traceback (most recent call last)",
      "Cell \u001b[1;32mIn[1], line 19\u001b[0m\n\u001b[0;32m     16\u001b[0m     \u001b[38;5;28;01mreturn\u001b[39;00m rmsd_value\n\u001b[0;32m     18\u001b[0m \u001b[38;5;66;03m# Compare AI structure vs. experimental reference\u001b[39;00m\n\u001b[1;32m---> 19\u001b[0m \u001b[43mcalculate_rmsd\u001b[49m\u001b[43m(\u001b[49m\u001b[38;5;124;43m\"\u001b[39;49m\u001b[38;5;124;43mdata/3zqo.pdb\u001b[39;49m\u001b[38;5;124;43m\"\u001b[39;49m\u001b[43m,\u001b[49m\u001b[43m \u001b[49m\u001b[38;5;124;43m\"\u001b[39;49m\u001b[38;5;124;43mrefined_structure.pdb\u001b[39;49m\u001b[38;5;124;43m\"\u001b[39;49m\u001b[43m)\u001b[49m\n",
      "Cell \u001b[1;32mIn[1], line 14\u001b[0m, in \u001b[0;36mcalculate_rmsd\u001b[1;34m(reference_pdb, predicted_pdb)\u001b[0m\n\u001b[0;32m     11\u001b[0m ref_atoms \u001b[38;5;241m=\u001b[39m u_ref\u001b[38;5;241m.\u001b[39mselect_atoms(\u001b[38;5;124m\"\u001b[39m\u001b[38;5;124mname CA\u001b[39m\u001b[38;5;124m\"\u001b[39m)\n\u001b[0;32m     12\u001b[0m pred_atoms \u001b[38;5;241m=\u001b[39m u_pred\u001b[38;5;241m.\u001b[39mselect_atoms(\u001b[38;5;124m\"\u001b[39m\u001b[38;5;124mname CA\u001b[39m\u001b[38;5;124m\"\u001b[39m)\n\u001b[1;32m---> 14\u001b[0m rmsd_value \u001b[38;5;241m=\u001b[39m \u001b[43mrmsd\u001b[49m\u001b[43m(\u001b[49m\u001b[43mpred_atoms\u001b[49m\u001b[38;5;241;43m.\u001b[39;49m\u001b[43mpositions\u001b[49m\u001b[43m,\u001b[49m\u001b[43m \u001b[49m\u001b[43mref_atoms\u001b[49m\u001b[38;5;241;43m.\u001b[39;49m\u001b[43mpositions\u001b[49m\u001b[43m,\u001b[49m\u001b[43m \u001b[49m\u001b[43msuperposition\u001b[49m\u001b[38;5;241;43m=\u001b[39;49m\u001b[38;5;28;43;01mTrue\u001b[39;49;00m\u001b[43m)\u001b[49m\n\u001b[0;32m     15\u001b[0m \u001b[38;5;28mprint\u001b[39m(\u001b[38;5;124mf\u001b[39m\u001b[38;5;124m\"\u001b[39m\u001b[38;5;124mRMSD After Refinement: \u001b[39m\u001b[38;5;132;01m{\u001b[39;00mrmsd_value\u001b[38;5;132;01m:\u001b[39;00m\u001b[38;5;124m.3f\u001b[39m\u001b[38;5;132;01m}\u001b[39;00m\u001b[38;5;124m Å\u001b[39m\u001b[38;5;124m\"\u001b[39m)\n\u001b[0;32m     16\u001b[0m \u001b[38;5;28;01mreturn\u001b[39;00m rmsd_value\n",
      "File \u001b[1;32m~\\AppData\\Local\\Packages\\PythonSoftwareFoundation.Python.3.11_qbz5n2kfra8p0\\LocalCache\\local-packages\\Python311\\site-packages\\MDAnalysis\\analysis\\rms.py:261\u001b[0m, in \u001b[0;36mrmsd\u001b[1;34m(a, b, weights, center, superposition)\u001b[0m\n\u001b[0;32m    259\u001b[0m N \u001b[38;5;241m=\u001b[39m b\u001b[38;5;241m.\u001b[39mshape[\u001b[38;5;241m0\u001b[39m]\n\u001b[0;32m    260\u001b[0m \u001b[38;5;28;01mif\u001b[39;00m a\u001b[38;5;241m.\u001b[39mshape \u001b[38;5;241m!=\u001b[39m b\u001b[38;5;241m.\u001b[39mshape:\n\u001b[1;32m--> 261\u001b[0m     \u001b[38;5;28;01mraise\u001b[39;00m \u001b[38;5;167;01mValueError\u001b[39;00m(\u001b[38;5;124m'\u001b[39m\u001b[38;5;124ma and b must have same shape\u001b[39m\u001b[38;5;124m'\u001b[39m)\n\u001b[0;32m    263\u001b[0m \u001b[38;5;66;03m# superposition only works if structures are centered\u001b[39;00m\n\u001b[0;32m    264\u001b[0m \u001b[38;5;28;01mif\u001b[39;00m center \u001b[38;5;129;01mor\u001b[39;00m superposition:\n\u001b[0;32m    265\u001b[0m     \u001b[38;5;66;03m# make copies (do not change the user data!)\u001b[39;00m\n\u001b[0;32m    266\u001b[0m     \u001b[38;5;66;03m# weights=None is equivalent to all weights 1\u001b[39;00m\n",
      "\u001b[1;31mValueError\u001b[0m: a and b must have same shape"
     ]
    }
   ],
   "source": [
    "\n",
    "import MDAnalysis as mda\n",
    "from MDAnalysis.analysis.rms import rmsd\n",
    "\n",
    "def calculate_rmsd(reference_pdb, predicted_pdb):\n",
    "    \"\"\"\n",
    "    Computes RMSD between AI-generated structure and experimental PDB reference.\n",
    "    \"\"\"\n",
    "    u_ref = mda.Universe(reference_pdb)\n",
    "    u_pred = mda.Universe(predicted_pdb)\n",
    "\n",
    "    ref_atoms = u_ref.select_atoms(\"name CA\")\n",
    "    pred_atoms = u_pred.select_atoms(\"name CA\")\n",
    "\n",
    "    rmsd_value = rmsd(pred_atoms.positions, ref_atoms.positions, superposition=True)\n",
    "    print(f\"RMSD After Refinement: {rmsd_value:.3f} Å\")\n",
    "    return rmsd_value\n",
    "\n",
    "# Compare AI structure vs. experimental reference\n",
    "calculate_rmsd(\"data/3zqo.pdb\", \"refined_structure.pdb\")\n"
   ]
  }
 ],
 "metadata": {
  "kernelspec": {
   "display_name": "Python 3",
   "language": "python",
   "name": "python3"
  },
  "language_info": {
   "codemirror_mode": {
    "name": "ipython",
    "version": 3
   },
   "file_extension": ".py",
   "mimetype": "text/x-python",
   "name": "python",
   "nbconvert_exporter": "python",
   "pygments_lexer": "ipython3",
   "version": "3.11.9"
  }
 },
 "nbformat": 4,
 "nbformat_minor": 4
}
