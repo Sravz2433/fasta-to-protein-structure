{
 "cells": [
  {
   "cell_type": "code",
   "execution_count": 49,
   "metadata": {},
   "outputs": [],
   "source": [
    "import numpy as np\n",
    "import tensorflow as tf\n",
    "from tensorflow.keras.models import Sequential\n",
    "from tensorflow.keras.layers import Dense, LSTM, Embedding\n",
    "from tensorflow.keras.utils import to_categorical\n",
    "from sklearn.model_selection import train_test_split"
   ]
  },
  {
   "cell_type": "code",
   "execution_count": 50,
   "metadata": {},
   "outputs": [],
   "source": [
    "helix_formers = {'A', 'L', 'M', 'E', 'Q', 'K'}\n",
    "sheet_formers = {'V', 'I', 'Y', 'F', 'C', 'T', 'W'}\n",
    "helix_breakers = {'P', 'G'}"
   ]
  },
  {
   "cell_type": "code",
   "execution_count": 51,
   "metadata": {},
   "outputs": [],
   "source": [
    "def predict_secondary_structure(sequence):\n",
    "    prediction = []\n",
    "    for aa in sequence:\n",
    "        if aa in helix_formers:\n",
    "            prediction.append('H')  # Helix\n",
    "        elif aa in sheet_formers:\n",
    "            prediction.append('E')  # Sheet\n",
    "        elif aa in helix_breakers:\n",
    "            prediction.append('C')  # Coil\n",
    "        else:\n",
    "            prediction.append('C')  # Default to Coil\n",
    "    return ''.join(prediction)\n"
   ]
  },
  {
   "cell_type": "code",
   "execution_count": 52,
   "metadata": {},
   "outputs": [
    {
     "name": "stdout",
     "output_type": "stream",
     "text": [
      "Sequence: ACDEFGHIK\n",
      "Predicted Labels: HECHECCEH\n",
      "\n",
      "Sequence: LMNPQRSTY\n",
      "Predicted Labels: HHCCHCCEE\n",
      "\n",
      "Sequence: ACDFGHIKL\n",
      "Predicted Labels: HECECCEHH\n",
      "\n"
     ]
    }
   ],
   "source": [
    "# Input sequences\n",
    "sequences = ['ACDEFGHIK', 'LMNPQRSTY', 'ACDFGHIKL']\n",
    "\n",
    "# Generate labels for each sequence\n",
    "predicted_labels = [predict_secondary_structure(seq) for seq in sequences]\n",
    "\n",
    "# Display results\n",
    "for i, seq in enumerate(sequences):\n",
    "    print(f\"Sequence: {seq}\")\n",
    "    print(f\"Predicted Labels: {predicted_labels[i]}\")\n",
    "    print()\n"
   ]
  },
  {
   "cell_type": "code",
   "execution_count": 53,
   "metadata": {},
   "outputs": [],
   "source": [
    "\n",
    "\n",
    "# Encode amino acids and labels\n",
    "amino_acids = 'ACDEFGHIKLMNPQRSTVWY'\n",
    "aa_to_idx = {aa: i for i, aa in enumerate(amino_acids)}\n",
    "seq_encoded = [[aa_to_idx[aa] for aa in seq] for seq in sequences]\n",
    "label_encoded = [[{'C': 0, 'H': 1, 'E': 2}[ss] for ss in label] for label in labels]\n"
   ]
  },
  {
   "cell_type": "code",
   "execution_count": 54,
   "metadata": {},
   "outputs": [],
   "source": [
    "max_len = max(len(seq) for seq in seq_encoded)\n",
    "X = tf.keras.preprocessing.sequence.pad_sequences(seq_encoded, maxlen=max_len)\n",
    "y = tf.keras.preprocessing.sequence.pad_sequences(label_encoded, maxlen=max_len)\n"
   ]
  },
  {
   "cell_type": "code",
   "execution_count": 55,
   "metadata": {},
   "outputs": [],
   "source": [
    "# One-hot encode labels\n",
    "y = np.array([to_categorical(seq, num_classes=3) for seq in y])\n",
    "\n",
    "# Split data\n",
    "X_train, X_val, y_train, y_val = train_test_split(X, y, test_size=0.2, random_state=42)\n",
    "\n",
    "# Build a simple LSTM model\n",
    "model = Sequential([\n",
    "    Embedding(input_dim=len(amino_acids), output_dim=16, input_length=max_len),\n",
    "    LSTM(32, return_sequences=True),\n",
    "    Dense(3, activation='softmax')  # 3 classes: C, H, E\n",
    "])\n"
   ]
  },
  {
   "cell_type": "code",
   "execution_count": 56,
   "metadata": {},
   "outputs": [
    {
     "name": "stdout",
     "output_type": "stream",
     "text": [
      "Epoch 1/10\n",
      "\u001b[1m1/1\u001b[0m \u001b[32m━━━━━━━━━━━━━━━━━━━━\u001b[0m\u001b[37m\u001b[0m \u001b[1m2s\u001b[0m 2s/step - accuracy: 0.5556 - loss: 1.0967 - val_accuracy: 0.6667 - val_loss: 1.0949\n",
      "Epoch 2/10\n",
      "\u001b[1m1/1\u001b[0m \u001b[32m━━━━━━━━━━━━━━━━━━━━\u001b[0m\u001b[37m\u001b[0m \u001b[1m0s\u001b[0m 51ms/step - accuracy: 0.6111 - loss: 1.0916 - val_accuracy: 0.5556 - val_loss: 1.0929\n",
      "Epoch 3/10\n",
      "\u001b[1m1/1\u001b[0m \u001b[32m━━━━━━━━━━━━━━━━━━━━\u001b[0m\u001b[37m\u001b[0m \u001b[1m0s\u001b[0m 51ms/step - accuracy: 0.7778 - loss: 1.0864 - val_accuracy: 0.5556 - val_loss: 1.0910\n",
      "Epoch 4/10\n",
      "\u001b[1m1/1\u001b[0m \u001b[32m━━━━━━━━━━━━━━━━━━━━\u001b[0m\u001b[37m\u001b[0m \u001b[1m0s\u001b[0m 52ms/step - accuracy: 0.7778 - loss: 1.0810 - val_accuracy: 0.5556 - val_loss: 1.0891\n",
      "Epoch 5/10\n",
      "\u001b[1m1/1\u001b[0m \u001b[32m━━━━━━━━━━━━━━━━━━━━\u001b[0m\u001b[37m\u001b[0m \u001b[1m0s\u001b[0m 54ms/step - accuracy: 0.7778 - loss: 1.0756 - val_accuracy: 0.5556 - val_loss: 1.0872\n",
      "Epoch 6/10\n",
      "\u001b[1m1/1\u001b[0m \u001b[32m━━━━━━━━━━━━━━━━━━━━\u001b[0m\u001b[37m\u001b[0m \u001b[1m0s\u001b[0m 51ms/step - accuracy: 0.7778 - loss: 1.0699 - val_accuracy: 0.5556 - val_loss: 1.0852\n",
      "Epoch 7/10\n",
      "\u001b[1m1/1\u001b[0m \u001b[32m━━━━━━━━━━━━━━━━━━━━\u001b[0m\u001b[37m\u001b[0m \u001b[1m0s\u001b[0m 54ms/step - accuracy: 0.7778 - loss: 1.0640 - val_accuracy: 0.5556 - val_loss: 1.0832\n",
      "Epoch 8/10\n",
      "\u001b[1m1/1\u001b[0m \u001b[32m━━━━━━━━━━━━━━━━━━━━\u001b[0m\u001b[37m\u001b[0m \u001b[1m0s\u001b[0m 55ms/step - accuracy: 0.7778 - loss: 1.0578 - val_accuracy: 0.5556 - val_loss: 1.0812\n",
      "Epoch 9/10\n",
      "\u001b[1m1/1\u001b[0m \u001b[32m━━━━━━━━━━━━━━━━━━━━\u001b[0m\u001b[37m\u001b[0m \u001b[1m0s\u001b[0m 56ms/step - accuracy: 0.7778 - loss: 1.0513 - val_accuracy: 0.5556 - val_loss: 1.0792\n",
      "Epoch 10/10\n",
      "\u001b[1m1/1\u001b[0m \u001b[32m━━━━━━━━━━━━━━━━━━━━\u001b[0m\u001b[37m\u001b[0m \u001b[1m0s\u001b[0m 63ms/step - accuracy: 0.7778 - loss: 1.0444 - val_accuracy: 0.5556 - val_loss: 1.0771\n"
     ]
    },
    {
     "data": {
      "text/plain": [
       "<keras.src.callbacks.history.History at 0x2376f99b150>"
      ]
     },
     "execution_count": 56,
     "metadata": {},
     "output_type": "execute_result"
    }
   ],
   "source": [
    "# Compile and train\n",
    "model.compile(optimizer='adam', loss='categorical_crossentropy', metrics=['accuracy'])\n",
    "model.fit(X_train, y_train, validation_data=(X_val, y_val), epochs=10, batch_size=2)\n"
   ]
  },
  {
   "cell_type": "code",
   "execution_count": 57,
   "metadata": {},
   "outputs": [
    {
     "name": "stdout",
     "output_type": "stream",
     "text": [
      "\u001b[1m1/1\u001b[0m \u001b[32m━━━━━━━━━━━━━━━━━━━━\u001b[0m\u001b[37m\u001b[0m \u001b[1m0s\u001b[0m 149ms/step\n",
      "Predicted Secondary Structure: CCCCCCCCC\n"
     ]
    }
   ],
   "source": [
    "# Predict\n",
    "test_seq = 'ACDFGHIK'\n",
    "test_encoded = [aa_to_idx[aa] for aa in test_seq]\n",
    "test_padded = tf.keras.preprocessing.sequence.pad_sequences([test_encoded], maxlen=max_len)\n",
    "predictions = model.predict(test_padded)\n",
    "print(\"Predicted Secondary Structure:\", ''.join(['CHE'[np.argmax(p)] for p in predictions[0]]))"
   ]
  },
  {
   "cell_type": "code",
   "execution_count": 58,
   "metadata": {},
   "outputs": [],
   "source": [
    "import numpy as np\n",
    "\n",
    "def save_as_pdb(predicted_coords, output_file=\"predicted_structure.pdb\"):\n",
    "    with open(output_file, \"w\") as pdb_file:\n",
    "        pdb_file.write(\"HEADER    PREDICTED PROTEIN STRUCTURE\\n\")\n",
    "        for i, coord in enumerate(predicted_coords, start=1):\n",
    "            pdb_file.write(\n",
    "                f\"ATOM  {i:5d}  CA  ALA A{i:4d}    {coord[0]:8.3f}{coord[1]:8.3f}{coord[2]:8.3f}  1.00  0.00\\n\"\n",
    "            )\n",
    "        pdb_file.write(\"END\\n\")\n",
    "\n",
    "# Example: Save coordinates\n",
    "predicted_coords = np.random.rand(397, 3) * 10  # Replace with real predicted coordinates\n",
    "save_as_pdb(predicted_coords, \"predicted_structure.pdb\")\n"
   ]
  },
  {
   "cell_type": "code",
   "execution_count": 59,
   "metadata": {},
   "outputs": [
    {
     "name": "stdout",
     "output_type": "stream",
     "text": [
      "Atom: CA, Position: [1.482 5.073 2.124]\n",
      "Atom: CA, Position: [8.916 9.817 4.994]\n",
      "Atom: CA, Position: [5.408 0.459 4.693]\n",
      "Atom: CA, Position: [7.017 6.113 4.968]\n",
      "Atom: CA, Position: [2.718 1.143 1.874]\n",
      "Atom: CA, Position: [5.622 3.346 3.292]\n",
      "Atom: CA, Position: [5.098 5.32  7.494]\n",
      "Atom: CA, Position: [5.719 2.56  0.587]\n",
      "Atom: CA, Position: [8.418 0.972 1.125]\n",
      "Atom: CA, Position: [7.728 1.577 2.058]\n",
      "Atom: CA, Position: [0.227 0.618 6.59 ]\n",
      "Atom: CA, Position: [5.224 6.666 2.745]\n",
      "Atom: CA, Position: [9.047 1.159 0.07 ]\n",
      "Atom: CA, Position: [0.502 8.702 6.701]\n",
      "Atom: CA, Position: [6.305 2.333 5.421]\n",
      "Atom: CA, Position: [2.981 1.892 1.132]\n",
      "Atom: CA, Position: [3.214 3.317 4.212]\n",
      "Atom: CA, Position: [8.519 9.103 7.481]\n",
      "Atom: CA, Position: [9.046 2.217 6.866]\n",
      "Atom: CA, Position: [1.75  5.361 0.374]\n",
      "Atom: CA, Position: [4.252 3.208 9.334]\n",
      "Atom: CA, Position: [1.028 5.307 3.474]\n",
      "Atom: CA, Position: [7.565 0.931 6.45 ]\n",
      "Atom: CA, Position: [5.58  9.371 5.57 ]\n",
      "Atom: CA, Position: [9.537 4.134 6.222]\n",
      "Atom: CA, Position: [7.694 7.893 0.045]\n",
      "Atom: CA, Position: [7.823 9.848 8.649]\n",
      "Atom: CA, Position: [3.86  0.548 1.663]\n",
      "Atom: CA, Position: [3.7   8.502 9.687]\n",
      "Atom: CA, Position: [5.475 1.116 4.443]\n",
      "Atom: CA, Position: [2.928 4.9   5.835]\n",
      "Atom: CA, Position: [5.223 0.536 8.187]\n",
      "Atom: CA, Position: [4.353 4.614 9.168]\n",
      "Atom: CA, Position: [3.901 4.973 4.095]\n",
      "Atom: CA, Position: [8.548 0.363 2.99 ]\n",
      "Atom: CA, Position: [1.534 7.499 7.824]\n",
      "Atom: CA, Position: [6.217 1.168 1.61 ]\n",
      "Atom: CA, Position: [5.4   7.764 8.79 ]\n",
      "Atom: CA, Position: [1.671 4.719 0.537]\n",
      "Atom: CA, Position: [2.377 7.589 4.966]\n",
      "Atom: CA, Position: [3.063 5.987 4.316]\n",
      "Atom: CA, Position: [3.899 9.594 3.895]\n",
      "Atom: CA, Position: [6.955 1.058 9.237]\n",
      "Atom: CA, Position: [5.017 1.12  3.607]\n",
      "Atom: CA, Position: [4.013 3.767 9.78 ]\n",
      "Atom: CA, Position: [6.708 1.424 1.366]\n",
      "Atom: CA, Position: [4.264 7.125 2.646]\n",
      "Atom: CA, Position: [3.119 9.838 5.52 ]\n",
      "Atom: CA, Position: [7.559 9.608 3.269]\n",
      "Atom: CA, Position: [2.326 7.186 7.266]\n",
      "Atom: CA, Position: [1.163 2.693 2.923]\n",
      "Atom: CA, Position: [9.315 6.724 3.947]\n",
      "Atom: CA, Position: [9.039 8.811 8.806]\n",
      "Atom: CA, Position: [6.324 8.616 6.712]\n",
      "Atom: CA, Position: [2.446 0.927 6.423]\n",
      "Atom: CA, Position: [5.148 6.908 0.076]\n",
      "Atom: CA, Position: [1.201 0.364 1.623]\n",
      "Atom: CA, Position: [8.012 3.348 2.762]\n",
      "Atom: CA, Position: [8.632 2.597 2.063]\n",
      "Atom: CA, Position: [6.356 1.784 9.526]\n",
      "Atom: CA, Position: [3.237 2.033 2.868]\n",
      "Atom: CA, Position: [0.749 0.566 7.065]\n",
      "Atom: CA, Position: [1.807 8.895 2.624]\n",
      "Atom: CA, Position: [0.38  5.689 4.367]\n",
      "Atom: CA, Position: [1.743 8.745 7.785]\n",
      "Atom: CA, Position: [6.468 9.898 7.319]\n",
      "Atom: CA, Position: [9.362 2.358 0.058]\n",
      "Atom: CA, Position: [6.837 4.518 7.584]\n",
      "Atom: CA, Position: [3.939 8.189 8.342]\n",
      "Atom: CA, Position: [6.817 7.074 4.961]\n",
      "Atom: CA, Position: [2.159 0.884 0.084]\n",
      "Atom: CA, Position: [3.948 6.535 1.083]\n",
      "Atom: CA, Position: [1.656 0.793 2.269]\n",
      "Atom: CA, Position: [9.25  8.944 9.159]\n",
      "Atom: CA, Position: [6.096 8.796 2.528]\n",
      "Atom: CA, Position: [1.753 7.042 2.405]\n",
      "Atom: CA, Position: [8.766 2.148 2.962]\n",
      "Atom: CA, Position: [2.743 9.621 6.798]\n",
      "Atom: CA, Position: [6.227 8.312 3.23 ]\n",
      "Atom: CA, Position: [7.861 9.481 3.089]\n",
      "Atom: CA, Position: [4.034 9.349 8.642]\n",
      "Atom: CA, Position: [1.286 0.593 1.059]\n",
      "Atom: CA, Position: [2.867 6.381 6.018]\n",
      "Atom: CA, Position: [8.745 3.215 1.071]\n",
      "Atom: CA, Position: [0.743 7.844 8.421]\n",
      "Atom: CA, Position: [3.546 4.931 8.528]\n",
      "Atom: CA, Position: [3.742 5.876 4.472]\n",
      "Atom: CA, Position: [0.415 8.442 8.353]\n",
      "Atom: CA, Position: [8.48  6.586 1.987]\n",
      "Atom: CA, Position: [5.619 8.142 9.919]\n",
      "Atom: CA, Position: [7.139 8.345 4.819]\n",
      "Atom: CA, Position: [7.258 0.703 6.852]\n",
      "Atom: CA, Position: [0.531 5.452 8.846]\n",
      "Atom: CA, Position: [0.395 7.245 1.77 ]\n",
      "Atom: CA, Position: [2.739 0.717 6.483]\n",
      "Atom: CA, Position: [6.681 2.887 2.637]\n",
      "Atom: CA, Position: [1.977 5.026 1.022]\n",
      "Atom: CA, Position: [3.553 8.542 9.532]\n",
      "Atom: CA, Position: [8.627 3.429 6.353]\n",
      "Atom: CA, Position: [5.289 5.138 7.704]\n",
      "Atom: CA, Position: [0.18  5.591 6.037]\n",
      "Atom: CA, Position: [5.116 6.091 5.868]\n",
      "Atom: CA, Position: [5.101 3.775 6.353]\n",
      "Atom: CA, Position: [0.29  0.07  3.364]\n",
      "Atom: CA, Position: [5.231 9.191 0.254]\n",
      "Atom: CA, Position: [7.056 1.159 5.896]\n",
      "Atom: CA, Position: [5.072 6.746 9.454]\n",
      "Atom: CA, Position: [1.948 4.802 4.725]\n",
      "Atom: CA, Position: [7.231 0.553 6.443]\n",
      "Atom: CA, Position: [6.883 4.359 1.62 ]\n",
      "Atom: CA, Position: [5.483 5.844 6.622]\n",
      "Atom: CA, Position: [9.916 5.136 8.711]\n",
      "Atom: CA, Position: [9.751 9.121 9.627]\n",
      "Atom: CA, Position: [4.619 9.875 9.446]\n",
      "Atom: CA, Position: [9.214 5.385 5.09 ]\n",
      "Atom: CA, Position: [0.469 7.713 3.342]\n",
      "Atom: CA, Position: [9.229 1.792 6.336]\n",
      "Atom: CA, Position: [9.306 2.4   9.998]\n",
      "Atom: CA, Position: [1.253 0.725 4.447]\n",
      "Atom: CA, Position: [4.608 3.37  4.542]\n",
      "Atom: CA, Position: [4.492 3.258 6.411]\n",
      "Atom: CA, Position: [1.866 5.901 0.182]\n",
      "Atom: CA, Position: [8.443 7.088 4.57 ]\n",
      "Atom: CA, Position: [2.426 5.932 3.719]\n",
      "Atom: CA, Position: [0.67  3.586 0.713]\n",
      "Atom: CA, Position: [2.792 1.933 1.919]\n",
      "Atom: CA, Position: [7.226 2.645 1.919]\n",
      "Atom: CA, Position: [3.035 0.357 9.543]\n",
      "Atom: CA, Position: [7.24  8.33  6.995]\n",
      "Atom: CA, Position: [0.99  5.383 7.413]\n",
      "Atom: CA, Position: [4.592 1.571 8.065]\n",
      "Atom: CA, Position: [7.624 5.926 8.507]\n",
      "Atom: CA, Position: [0.07  7.289 8.825]\n",
      "Atom: CA, Position: [2.368 3.859 1.666]\n",
      "Atom: CA, Position: [8.542 7.807 2.145]\n",
      "Atom: CA, Position: [2.35  4.64  1.691]\n",
      "Atom: CA, Position: [9.728 6.933 1.059]\n",
      "Atom: CA, Position: [8.984 3.392 4.297]\n",
      "Atom: CA, Position: [4.654 0.182 8.637]\n",
      "Atom: CA, Position: [9.144 3.087 2.786]\n",
      "Atom: CA, Position: [4.21  6.522 6.914]\n",
      "Atom: CA, Position: [3.021 5.289 9.546]\n",
      "Atom: CA, Position: [5.799 5.177 6.912]\n",
      "Atom: CA, Position: [7.743 4.934 5.924]\n",
      "Atom: CA, Position: [5.156 9.503 5.53 ]\n",
      "Atom: CA, Position: [9.876 5.005 8.151]\n",
      "Atom: CA, Position: [9.598 1.808 2.073]\n",
      "Atom: CA, Position: [7.191 3.562 8.548]\n",
      "Atom: CA, Position: [2.575 5.837 5.67 ]\n",
      "Atom: CA, Position: [1.947 1.987 7.507]\n",
      "Atom: CA, Position: [6.623 2.919 2.987]\n",
      "Atom: CA, Position: [1.173 2.109 0.553]\n",
      "Atom: CA, Position: [4.617 2.511 7.859]\n",
      "Atom: CA, Position: [4.461 2.276 5.502]\n",
      "Atom: CA, Position: [4.897 1.667 5.984]\n",
      "Atom: CA, Position: [1.933 0.658 2.71 ]\n",
      "Atom: CA, Position: [0.235 0.899 6.888]\n",
      "Atom: CA, Position: [9.488 6.122 0.479]\n",
      "Atom: CA, Position: [9.014 9.99  4.832]\n",
      "Atom: CA, Position: [1.277 1.141 5.208]\n",
      "Atom: CA, Position: [6.146 4.581 5.263]\n",
      "Atom: CA, Position: [9.83  1.676 1.236]\n",
      "Atom: CA, Position: [0.481 6.743 5.922]\n",
      "Atom: CA, Position: [8.408 0.439 2.937]\n",
      "Atom: CA, Position: [0.037 3.001 8.46 ]\n",
      "Atom: CA, Position: [6.158 3.314 9.051]\n",
      "Atom: CA, Position: [2.336 0.54  7.142]\n",
      "Atom: CA, Position: [7.528 9.491 9.397]\n",
      "Atom: CA, Position: [8.72  3.057 2.182]\n",
      "Atom: CA, Position: [7.561 8.578 0.561]\n",
      "Atom: CA, Position: [7.392 3.911 8.441]\n",
      "Atom: CA, Position: [2.751 7.174 1.275]\n",
      "Atom: CA, Position: [5.973 4.483 5.049]\n",
      "Atom: CA, Position: [4.318 0.343 3.629]\n",
      "Atom: CA, Position: [9.279 1.389 4.807]\n",
      "Atom: CA, Position: [5.39  9.104 1.739]\n",
      "Atom: CA, Position: [3.891 9.287 7.554]\n",
      "Atom: CA, Position: [0.175 8.747 8.069]\n",
      "Atom: CA, Position: [6.923 0.453 6.589]\n",
      "Atom: CA, Position: [5.046 0.795 1.302]\n",
      "Atom: CA, Position: [8.794 9.819 4.139]\n",
      "Atom: CA, Position: [1.608 2.85  1.885]\n",
      "Atom: CA, Position: [9.295 3.243 6.14 ]\n",
      "Atom: CA, Position: [7.495 5.704 7.913]\n",
      "Atom: CA, Position: [7.329 0.859 4.518]\n",
      "Atom: CA, Position: [7.447 3.641 2.296]\n",
      "Atom: CA, Position: [5.582 7.463 6.412]\n",
      "Atom: CA, Position: [1.804 2.782 5.442]\n",
      "Atom: CA, Position: [3.25  2.367 6.777]\n",
      "Atom: CA, Position: [0.955 5.819 4.75 ]\n",
      "Atom: CA, Position: [2.646 5.744 2.745]\n",
      "Atom: CA, Position: [9.777 5.769 5.933]\n",
      "Atom: CA, Position: [9.759 2.666 0.722]\n",
      "Atom: CA, Position: [1.679 3.544 7.343]\n",
      "Atom: CA, Position: [8.658 8.958 4.738]\n",
      "Atom: CA, Position: [6.826 4.561 6.713]\n",
      "Atom: CA, Position: [5.411 0.26  8.722]\n",
      "Atom: CA, Position: [4.618 0.212 1.447]\n",
      "Atom: CA, Position: [1.89  5.663 8.897]\n",
      "Atom: CA, Position: [2.833 6.852 6.07 ]\n",
      "Atom: CA, Position: [2.45  7.763 8.793]\n",
      "Atom: CA, Position: [3.617 6.217 6.858]\n",
      "Atom: CA, Position: [8.751 7.227 8.157]\n",
      "Atom: CA, Position: [0.274 7.655 8.358]\n",
      "Atom: CA, Position: [1.806 2.346 4.677]\n",
      "Atom: CA, Position: [9.699 4.169 7.545]\n",
      "Atom: CA, Position: [5.825 9.348 7.78 ]\n",
      "Atom: CA, Position: [6.223 8.021 7.729]\n",
      "Atom: CA, Position: [1.402 4.007 9.466]\n",
      "Atom: CA, Position: [8.402 6.881 7.281]\n",
      "Atom: CA, Position: [6.548 9.982 2.435]\n",
      "Atom: CA, Position: [2.648 2.889 9.011]\n",
      "Atom: CA, Position: [8.382 5.573 2.571]\n",
      "Atom: CA, Position: [6.764 4.082 7.41 ]\n",
      "Atom: CA, Position: [2.072 0.642 8.548]\n",
      "Atom: CA, Position: [0.081 5.979 6.492]\n",
      "Atom: CA, Position: [4.592 1.452 3.017]\n",
      "Atom: CA, Position: [1.13  3.994 4.013]\n",
      "Atom: CA, Position: [6.156 1.378 9.181]\n",
      "Atom: CA, Position: [6.35  5.813 4.965]\n",
      "Atom: CA, Position: [9.425 9.367 8.834]\n",
      "Atom: CA, Position: [7.025 0.923 5.026]\n",
      "Atom: CA, Position: [7.58  5.932 3.351]\n",
      "Atom: CA, Position: [5.447 2.844 3.21 ]\n",
      "Atom: CA, Position: [1.098 6.241 3.679]\n",
      "Atom: CA, Position: [5.458 2.673 8.805]\n",
      "Atom: CA, Position: [9.889 4.732 7.856]\n",
      "Atom: CA, Position: [0.643 9.063 2.949]\n",
      "Atom: CA, Position: [6.49  9.902 0.038]\n",
      "Atom: CA, Position: [2.782 7.904 7.012]\n",
      "Atom: CA, Position: [4.24  7.512 3.831]\n",
      "Atom: CA, Position: [1.59  0.999 1.902]\n",
      "Atom: CA, Position: [4.81  9.879 3.877]\n",
      "Atom: CA, Position: [4.842 1.212 7.356]\n",
      "Atom: CA, Position: [1.268 4.707 2.057]\n",
      "Atom: CA, Position: [4.359 5.947 4.1  ]\n",
      "Atom: CA, Position: [9.751 2.895 3.987]\n",
      "Atom: CA, Position: [1.87  8.955 1.845]\n",
      "Atom: CA, Position: [8.475 1.308 5.34 ]\n",
      "Atom: CA, Position: [2.318 1.514 1.957]\n",
      "Atom: CA, Position: [4.574 0.305 0.689]\n",
      "Atom: CA, Position: [8.947 2.861 5.495]\n",
      "Atom: CA, Position: [1.191 4.351 8.855]\n",
      "Atom: CA, Position: [2.484 2.934 0.984]\n",
      "Atom: CA, Position: [3.363 8.613 1.329]\n",
      "Atom: CA, Position: [5.103 2.002 3.313]\n",
      "Atom: CA, Position: [6.047 9.985 5.445]\n",
      "Atom: CA, Position: [1.599 4.948 5.042]\n",
      "Atom: CA, Position: [9.503 3.336 0.331]\n",
      "Atom: CA, Position: [1.199 8.196 7.018]\n",
      "Atom: CA, Position: [7.82  6.394 2.993]\n",
      "Atom: CA, Position: [6.265 5.48  3.184]\n",
      "Atom: CA, Position: [4.575 9.603 4.055]\n",
      "Atom: CA, Position: [3.849 2.443 2.604]\n",
      "Atom: CA, Position: [9.831 6.415 2.686]\n",
      "Atom: CA, Position: [5.899 6.336 3.973]\n",
      "Atom: CA, Position: [3.898 3.882 0.685]\n",
      "Atom: CA, Position: [8.584 0.927 7.337]\n",
      "Atom: CA, Position: [5.066 0.653 0.569]\n",
      "Atom: CA, Position: [7.649 9.323 4.893]\n",
      "Atom: CA, Position: [3.873 2.359 7.715]\n",
      "Atom: CA, Position: [6.664 1.689 9.024]\n",
      "Atom: CA, Position: [7.611 0.461 6.539]\n",
      "Atom: CA, Position: [7.721 1.757 2.29 ]\n",
      "Atom: CA, Position: [4.548 1.05  9.095]\n",
      "Atom: CA, Position: [6.143 3.081 2.311]\n",
      "Atom: CA, Position: [6.083 4.622 7.574]\n",
      "Atom: CA, Position: [3.771 5.365 5.254]\n",
      "Atom: CA, Position: [0.113 5.544 1.625]\n",
      "Atom: CA, Position: [9.648 8.014 7.063]\n",
      "Atom: CA, Position: [9.97  6.298 5.164]\n",
      "Atom: CA, Position: [7.435 6.856 5.734]\n",
      "Atom: CA, Position: [7.57  8.412 9.749]\n",
      "Atom: CA, Position: [0.22  3.802 2.316]\n",
      "Atom: CA, Position: [1.408 0.006 1.54 ]\n",
      "Atom: CA, Position: [9.15  5.348 2.114]\n",
      "Atom: CA, Position: [2.98  7.046 3.043]\n",
      "Atom: CA, Position: [0.759 5.251 4.046]\n",
      "Atom: CA, Position: [9.59  3.57  8.699]\n",
      "Atom: CA, Position: [1.102 3.737 6.957]\n",
      "Atom: CA, Position: [8.197 6.886 6.262]\n",
      "Atom: CA, Position: [9.177 5.149 0.082]\n",
      "Atom: CA, Position: [2.289 1.467 9.488]\n",
      "Atom: CA, Position: [1.389 8.503 7.936]\n",
      "Atom: CA, Position: [8.657 9.893 4.268]\n",
      "Atom: CA, Position: [9.737 0.166 9.819]\n",
      "Atom: CA, Position: [3.482 0.723 3.481]\n",
      "Atom: CA, Position: [4.723 4.821 4.784]\n",
      "Atom: CA, Position: [8.345 8.225 8.41 ]\n",
      "Atom: CA, Position: [3.001 2.066 9.365]\n",
      "Atom: CA, Position: [6.456 4.454 4.816]\n",
      "Atom: CA, Position: [4.619 2.979 1.662]\n",
      "Atom: CA, Position: [8.743 1.344 6.326]\n",
      "Atom: CA, Position: [1.221 4.612 8.96 ]\n",
      "Atom: CA, Position: [7.013 4.213 9.764]\n",
      "Atom: CA, Position: [2.667 7.388 2.578]\n",
      "Atom: CA, Position: [4.592 4.056 3.408]\n",
      "Atom: CA, Position: [6.168 5.815 4.142]\n",
      "Atom: CA, Position: [7.679 5.51  2.812]\n",
      "Atom: CA, Position: [2.391 8.628 8.859]\n",
      "Atom: CA, Position: [1.148 1.52  4.532]\n",
      "Atom: CA, Position: [3.522 4.389 7.108]\n",
      "Atom: CA, Position: [1.508 6.105 5.669]\n",
      "Atom: CA, Position: [5.732 0.349 6.642]\n",
      "Atom: CA, Position: [5.216 4.548 6.287]\n",
      "Atom: CA, Position: [4.163 7.148 3.817]\n",
      "Atom: CA, Position: [6.926 8.433 8.686]\n",
      "Atom: CA, Position: [7.851 1.455 2.743]\n",
      "Atom: CA, Position: [3.206 4.818 7.041]\n",
      "Atom: CA, Position: [1.104 4.073 9.089]\n",
      "Atom: CA, Position: [7.205 1.149 2.129]\n",
      "Atom: CA, Position: [9.799 8.269 5.374]\n",
      "Atom: CA, Position: [7.806 7.842 3.946]\n",
      "Atom: CA, Position: [7.749 8.151 8.017]\n",
      "Atom: CA, Position: [1.48  3.919 3.432]\n",
      "Atom: CA, Position: [9.259 7.866 5.104]\n",
      "Atom: CA, Position: [3.532 1.434 0.179]\n",
      "Atom: CA, Position: [8.551 4.446 8.451]\n",
      "Atom: CA, Position: [9.022 8.275 0.106]\n",
      "Atom: CA, Position: [6.234 7.323 5.796]\n",
      "Atom: CA, Position: [6.612 7.583 6.14 ]\n",
      "Atom: CA, Position: [8.596 0.952 9.458]\n",
      "Atom: CA, Position: [3.879 0.987 8.55 ]\n",
      "Atom: CA, Position: [7.915 4.137 2.212]\n",
      "Atom: CA, Position: [2.503 0.562 2.922]\n",
      "Atom: CA, Position: [1.627 2.142 2.826]\n",
      "Atom: CA, Position: [5.7   1.701 2.833]\n",
      "Atom: CA, Position: [9.264 4.826 3.888]\n",
      "Atom: CA, Position: [6.429 7.019 2.069]\n",
      "Atom: CA, Position: [8.512 4.325 3.63 ]\n",
      "Atom: CA, Position: [6.79  1.371 3.507]\n",
      "Atom: CA, Position: [3.412 3.208 8.14 ]\n",
      "Atom: CA, Position: [6.819 2.81  7.995]\n",
      "Atom: CA, Position: [4.33  9.526 9.922]\n",
      "Atom: CA, Position: [6.125 6.72  0.376]\n",
      "Atom: CA, Position: [1.769 7.822 6.274]\n",
      "Atom: CA, Position: [8.067 0.983 0.371]\n",
      "Atom: CA, Position: [2.964 5.363 7.929]\n",
      "Atom: CA, Position: [1.363 9.883 2.913]\n",
      "Atom: CA, Position: [2.643 5.46  6.62 ]\n",
      "Atom: CA, Position: [4.06  8.931 7.052]\n",
      "Atom: CA, Position: [1.149 5.665 1.378]\n",
      "Atom: CA, Position: [4.167 4.056 3.886]\n",
      "Atom: CA, Position: [4.378 6.347 9.756]\n",
      "Atom: CA, Position: [6.392 2.144 8.128]\n",
      "Atom: CA, Position: [8.673 7.719 5.072]\n",
      "Atom: CA, Position: [3.305 1.242 5.8  ]\n",
      "Atom: CA, Position: [2.129 6.225 7.486]\n",
      "Atom: CA, Position: [3.288 0.023 9.608]\n",
      "Atom: CA, Position: [6.144 1.504 9.349]\n",
      "Atom: CA, Position: [6.895 3.823 1.702]\n",
      "Atom: CA, Position: [1.979 1.99  3.821]\n",
      "Atom: CA, Position: [8.918 9.384 2.142]\n",
      "Atom: CA, Position: [5.085 8.081 5.522]\n",
      "Atom: CA, Position: [4.207 3.743 8.787]\n",
      "Atom: CA, Position: [2.07  8.794 3.783]\n",
      "Atom: CA, Position: [8.361 6.309 8.848]\n",
      "Atom: CA, Position: [1.736 3.938 1.332]\n",
      "Atom: CA, Position: [3.262 0.71  1.898]\n",
      "Atom: CA, Position: [8.754 3.513 0.962]\n",
      "Atom: CA, Position: [1.253 7.168 2.856]\n",
      "Atom: CA, Position: [0.804 6.961 0.934]\n",
      "Atom: CA, Position: [8.925 0.433 4.541]\n",
      "Atom: CA, Position: [1.803 0.864 1.069]\n",
      "Atom: CA, Position: [6.952 3.746 3.513]\n",
      "Atom: CA, Position: [2.725 1.514 5.461]\n",
      "Atom: CA, Position: [8.629 9.067 2.613]\n",
      "Atom: CA, Position: [0.469 9.357 8.67 ]\n",
      "Atom: CA, Position: [7.152 8.65  8.97 ]\n",
      "Atom: CA, Position: [4.087 9.863 9.73 ]\n",
      "Atom: CA, Position: [0.736 8.429 9.537]\n",
      "Atom: CA, Position: [0.728 9.96  5.734]\n",
      "Atom: CA, Position: [1.573 2.577 4.545]\n",
      "Atom: CA, Position: [0.799 7.254 2.196]\n",
      "Atom: CA, Position: [5.576 9.636 3.622]\n",
      "Atom: CA, Position: [7.309 7.518 3.358]\n",
      "Atom: CA, Position: [4.08  2.811 9.023]\n",
      "Atom: CA, Position: [2.862 6.37  9.479]\n",
      "Atom: CA, Position: [6.757 9.964 8.65 ]\n",
      "Atom: CA, Position: [4.133 1.787 8.908]\n",
      "Atom: CA, Position: [8.916 0.287 9.78 ]\n",
      "Atom: CA, Position: [6.169 2.822 9.379]\n",
      "Atom: CA, Position: [2.573 6.4   2.105]\n",
      "Atom: CA, Position: [8.12  8.22  7.159]\n",
      "Atom: CA, Position: [4.259 6.28  6.562]\n",
      "Atom: CA, Position: [6.443 2.761 3.548]\n",
      "Atom: CA, Position: [9.258 5.411 9.901]\n",
      "Atom: CA, Position: [9.577 8.667 6.413]\n",
      "Atom: CA, Position: [9.683 2.759 8.717]\n",
      "Atom: CA, Position: [5.039 9.456 4.738]\n",
      "Atom: CA, Position: [1.754 8.707 7.983]\n",
      "Atom: CA, Position: [8.156 9.984 1.496]\n",
      "Atom: CA, Position: [7.448 7.754 7.564]\n",
      "Atom: CA, Position: [6.555 9.487 4.244]\n",
      "Atom: CA, Position: [2.348 8.406 7.906]\n",
      "Atom: CA, Position: [3.709 7.716 8.712]\n",
      "Atom: CA, Position: [8.095 5.325 7.235]\n"
     ]
    }
   ],
   "source": [
    "import MDAnalysis as mda\n",
    "\n",
    "# Load the predicted structure\n",
    "u = mda.Universe(\"predicted_structure.pdb\")\n",
    "\n",
    "# Access atom positions\n",
    "for atom in u.atoms:\n",
    "    print(f\"Atom: {atom.name}, Position: {atom.position}\")\n"
   ]
  },
  {
   "cell_type": "code",
   "execution_count": 60,
   "metadata": {},
   "outputs": [],
   "source": [
    "# Center the structure at the origin\n",
    "u.atoms.translate(-u.atoms.center_of_mass())\n",
    "\n",
    "# Write the refined structure\n",
    "u.atoms.write(\"refined_structure.pdb\")\n"
   ]
  },
  {
   "cell_type": "code",
   "execution_count": 61,
   "metadata": {},
   "outputs": [
    {
     "name": "stdout",
     "output_type": "stream",
     "text": [
      "Distance matrix shape: (397, 397)\n"
     ]
    }
   ],
   "source": [
    "from MDAnalysis.analysis.distances import distance_array\n",
    "\n",
    "# Calculate pairwise distances between all atoms\n",
    "distances = distance_array(u.atoms.positions, u.atoms.positions)\n",
    "print(\"Distance matrix shape:\", distances.shape)\n"
   ]
  },
  {
   "cell_type": "code",
   "execution_count": 62,
   "metadata": {},
   "outputs": [
    {
     "data": {
      "image/png": "[encoded data removed]",
      "text/plain": [
       "<Figure size 640x480 with 1 Axes>"
      ]
     },
     "metadata": {},
     "output_type": "display_data"
    }
   ],
   "source": [
    "import matplotlib.pyplot as plt\n",
    "from mpl_toolkits.mplot3d import Axes3D\n",
    "\n",
    "# Extract coordinates\n",
    "positions = u.atoms.positions\n",
    "x, y, z = positions[:, 0], positions[:, 1], positions[:, 2]\n",
    "\n",
    "# Plot\n",
    "fig = plt.figure()\n",
    "ax = fig.add_subplot(111, projection='3d')\n",
    "ax.scatter(x, y, z, s=50, c='b', marker='o')\n",
    "ax.set_title(\"Predicted Protein Structure\")\n",
    "ax.set_xlabel(\"X-axis\")\n",
    "ax.set_ylabel(\"Y-axis\")\n",
    "ax.set_zlabel(\"Z-axis\")\n",
    "plt.show()\n"
   ]
  },
  {
   "cell_type": "code",
   "execution_count": 63,
   "metadata": {},
   "outputs": [],
   "source": [
    "# Save the refined structure for use in OpenMM\n",
    "u.atoms.write(\"openmm_input.pdb\")\n"
   ]
  },
  {
   "cell_type": "code",
   "execution_count": 64,
   "metadata": {},
   "outputs": [
    {
     "name": "stdout",
     "output_type": "stream",
     "text": [
      "<Universe with 3303 atoms>\n"
     ]
    }
   ],
   "source": [
    "import MDAnalysis as mda\n",
    "\n",
    "# Load the reference structure (ensure the file exists at the specified path)\n",
    "ref = mda.Universe(\"data/4jrb.pdb\")\n",
    "\n",
    "# Verify it's loaded correctly\n",
    "print(ref)\n"
   ]
  },
  {
   "cell_type": "code",
   "execution_count": 65,
   "metadata": {},
   "outputs": [
    {
     "name": "stdout",
     "output_type": "stream",
     "text": [
      "Updated Predicted Residues: <ResidueGroup [<Residue ALA, 0>, <Residue ALA, 1>, <Residue ALA, 2>, <Residue ALA, 3>, <Residue ALA, 4>, <Residue ALA, 5>, <Residue ALA, 6>, <Residue ALA, 7>, <Residue ALA, 8>, <Residue ALA, 9>]>\n"
     ]
    }
   ],
   "source": [
    "# Shift residue IDs of the predicted structure to start from 0\n",
    "for residue in u.residues:\n",
    "    residue.resid -= 1\n",
    "\n",
    "# Verify the change\n",
    "print(\"Updated Predicted Residues:\", u.select_atoms(\"name CA\").residues[:10])\n"
   ]
  },
  {
   "cell_type": "code",
   "execution_count": 66,
   "metadata": {},
   "outputs": [
    {
     "name": "stdout",
     "output_type": "stream",
     "text": [
      "Updated Predicted Residue Names: <ResidueGroup [<Residue HIS, 0>, <Residue MET, 1>, <Residue SER, 2>, <Residue LYS, 3>, <Residue GLY, 4>, <Residue GLU, 5>, <Residue GLU, 6>, <Residue LEU, 7>, <Residue PHE, 8>, <Residue THR, 9>]>\n"
     ]
    }
   ],
   "source": [
    "# Replace predicted residue names with reference residue names\n",
    "for pred_res, ref_res in zip(u.residues, ref.residues):\n",
    "    pred_res.resname = ref_res.resname\n",
    "\n",
    "# Verify the change\n",
    "print(\"Updated Predicted Residue Names:\", u.select_atoms(\"name CA\").residues[:10])\n"
   ]
  },
  {
   "cell_type": "code",
   "execution_count": 67,
   "metadata": {},
   "outputs": [
    {
     "name": "stdout",
     "output_type": "stream",
     "text": [
      "Trimmed Predicted Residues: 397\n"
     ]
    }
   ],
   "source": [
    "# Trim predicted structure to match reference residues\n",
    "pred_trimmed = u.select_atoms(\"name CA and resid 0:397\")\n",
    "\n",
    "# Confirm the trimmed residue count\n",
    "print(\"Trimmed Predicted Residues:\", pred_trimmed.n_atoms)\n"
   ]
  },
  {
   "cell_type": "code",
   "execution_count": 68,
   "metadata": {},
   "outputs": [
    {
     "ename": "SelectionError",
     "evalue": "Reference and trajectory atom selections do not contain the same number of atoms: \natoms:    N_ref=230, N_traj=397\nand also not the same number of residues:\nresidues: N_ref=230, N_traj=397",
     "output_type": "error",
     "traceback": [
      "\u001b[1;31m---------------------------------------------------------------------------\u001b[0m",
      "\u001b[1;31mSelectionError\u001b[0m                            Traceback (most recent call last)",
      "Cell \u001b[1;32mIn[68], line 5\u001b[0m\n\u001b[0;32m      2\u001b[0m \u001b[38;5;28;01mfrom\u001b[39;00m \u001b[38;5;21;01mMDAnalysis\u001b[39;00m\u001b[38;5;21;01m.\u001b[39;00m\u001b[38;5;21;01manalysis\u001b[39;00m\u001b[38;5;21;01m.\u001b[39;00m\u001b[38;5;21;01mrms\u001b[39;00m \u001b[38;5;28;01mimport\u001b[39;00m RMSD\n\u001b[0;32m      4\u001b[0m \u001b[38;5;66;03m# Align the predicted structure to the reference\u001b[39;00m\n\u001b[1;32m----> 5\u001b[0m aligner \u001b[38;5;241m=\u001b[39m \u001b[43mAlignTraj\u001b[49m\u001b[43m(\u001b[49m\u001b[43mu\u001b[49m\u001b[43m,\u001b[49m\u001b[43m \u001b[49m\u001b[43mref\u001b[49m\u001b[43m,\u001b[49m\u001b[43m \u001b[49m\u001b[43mselect\u001b[49m\u001b[38;5;241;43m=\u001b[39;49m\u001b[38;5;124;43m\"\u001b[39;49m\u001b[38;5;124;43mname CA and resid 0:397\u001b[39;49m\u001b[38;5;124;43m\"\u001b[39;49m\u001b[43m)\u001b[49m\n\u001b[0;32m      6\u001b[0m aligner\u001b[38;5;241m.\u001b[39mrun()\n\u001b[0;32m      8\u001b[0m \u001b[38;5;66;03m# Recalculate RMSD\u001b[39;00m\n",
      "File \u001b[1;32m~\\AppData\\Local\\Packages\\PythonSoftwareFoundation.Python.3.11_qbz5n2kfra8p0\\LocalCache\\local-packages\\Python311\\site-packages\\MDAnalysis\\analysis\\align.py:821\u001b[0m, in \u001b[0;36mAlignTraj.__init__\u001b[1;34m(self, mobile, reference, select, filename, prefix, weights, tol_mass, match_atoms, strict, force, in_memory, writer_kwargs, **kwargs)\u001b[0m\n\u001b[0;32m    818\u001b[0m \u001b[38;5;28mself\u001b[39m\u001b[38;5;241m.\u001b[39mfilename \u001b[38;5;241m=\u001b[39m filename\n\u001b[0;32m    820\u001b[0m natoms \u001b[38;5;241m=\u001b[39m \u001b[38;5;28mself\u001b[39m\u001b[38;5;241m.\u001b[39mmobile\u001b[38;5;241m.\u001b[39mn_atoms\n\u001b[1;32m--> 821\u001b[0m \u001b[38;5;28mself\u001b[39m\u001b[38;5;241m.\u001b[39mref_atoms, \u001b[38;5;28mself\u001b[39m\u001b[38;5;241m.\u001b[39mmobile_atoms \u001b[38;5;241m=\u001b[39m \u001b[43mget_matching_atoms\u001b[49m\u001b[43m(\u001b[49m\n\u001b[0;32m    822\u001b[0m \u001b[43m    \u001b[49m\u001b[38;5;28;43mself\u001b[39;49m\u001b[38;5;241;43m.\u001b[39;49m\u001b[43mref_atoms\u001b[49m\u001b[43m,\u001b[49m\u001b[43m \u001b[49m\u001b[38;5;28;43mself\u001b[39;49m\u001b[38;5;241;43m.\u001b[39;49m\u001b[43mmobile_atoms\u001b[49m\u001b[43m,\u001b[49m\u001b[43m \u001b[49m\u001b[43mtol_mass\u001b[49m\u001b[38;5;241;43m=\u001b[39;49m\u001b[43mtol_mass\u001b[49m\u001b[43m,\u001b[49m\n\u001b[0;32m    823\u001b[0m \u001b[43m    \u001b[49m\u001b[43mstrict\u001b[49m\u001b[38;5;241;43m=\u001b[39;49m\u001b[43mstrict\u001b[49m\u001b[43m,\u001b[49m\u001b[43m \u001b[49m\u001b[43mmatch_atoms\u001b[49m\u001b[38;5;241;43m=\u001b[39;49m\u001b[43mmatch_atoms\u001b[49m\u001b[43m)\u001b[49m\n\u001b[0;32m    825\u001b[0m \u001b[38;5;28;01mif\u001b[39;00m writer_kwargs \u001b[38;5;129;01mis\u001b[39;00m \u001b[38;5;28;01mNone\u001b[39;00m:\n\u001b[0;32m    826\u001b[0m     writer_kwargs \u001b[38;5;241m=\u001b[39m {}\n",
      "File \u001b[1;32m~\\AppData\\Local\\Packages\\PythonSoftwareFoundation.Python.3.11_qbz5n2kfra8p0\\LocalCache\\local-packages\\Python311\\site-packages\\MDAnalysis\\analysis\\align.py:1553\u001b[0m, in \u001b[0;36mget_matching_atoms\u001b[1;34m(ag1, ag2, tol_mass, strict, match_atoms)\u001b[0m\n\u001b[0;32m   1545\u001b[0m     errmsg \u001b[38;5;241m=\u001b[39m (\u001b[38;5;124m\"\u001b[39m\u001b[38;5;124mReference and trajectory atom selections do not contain \u001b[39m\u001b[38;5;124m\"\u001b[39m\n\u001b[0;32m   1546\u001b[0m             \u001b[38;5;124m\"\u001b[39m\u001b[38;5;124mthe same number of atoms: \u001b[39m\u001b[38;5;130;01m\\n\u001b[39;00m\u001b[38;5;124m\"\u001b[39m\n\u001b[0;32m   1547\u001b[0m             \u001b[38;5;124m\"\u001b[39m\u001b[38;5;124matoms:    N_ref=\u001b[39m\u001b[38;5;132;01m{0}\u001b[39;00m\u001b[38;5;124m, N_traj=\u001b[39m\u001b[38;5;132;01m{1}\u001b[39;00m\u001b[38;5;130;01m\\n\u001b[39;00m\u001b[38;5;124m\"\u001b[39m\n\u001b[1;32m   (...)\u001b[0m\n\u001b[0;32m   1550\u001b[0m                 ag1\u001b[38;5;241m.\u001b[39mn_atoms, ag2\u001b[38;5;241m.\u001b[39mn_atoms,\n\u001b[0;32m   1551\u001b[0m                 ag1\u001b[38;5;241m.\u001b[39mn_residues, ag2\u001b[38;5;241m.\u001b[39mn_residues)\n\u001b[0;32m   1552\u001b[0m     logger\u001b[38;5;241m.\u001b[39merror(errmsg)\n\u001b[1;32m-> 1553\u001b[0m     \u001b[38;5;28;01mraise\u001b[39;00m SelectionError(errmsg)\n\u001b[0;32m   1554\u001b[0m \u001b[38;5;28;01melse\u001b[39;00m:\n\u001b[0;32m   1555\u001b[0m     msg \u001b[38;5;241m=\u001b[39m (\u001b[38;5;124m\"\u001b[39m\u001b[38;5;124mReference and trajectory atom selections do not contain \u001b[39m\u001b[38;5;124m\"\u001b[39m\n\u001b[0;32m   1556\u001b[0m            \u001b[38;5;124m\"\u001b[39m\u001b[38;5;124mthe same number of atoms: \u001b[39m\u001b[38;5;130;01m\\n\u001b[39;00m\u001b[38;5;124m\"\u001b[39m\n\u001b[0;32m   1557\u001b[0m            \u001b[38;5;124m\"\u001b[39m\u001b[38;5;124matoms:    N_ref=\u001b[39m\u001b[38;5;132;01m{0}\u001b[39;00m\u001b[38;5;124m, N_traj=\u001b[39m\u001b[38;5;132;01m{1}\u001b[39;00m\u001b[38;5;124m\"\u001b[39m)\u001b[38;5;241m.\u001b[39mformat(\n\u001b[0;32m   1558\u001b[0m                ag1\u001b[38;5;241m.\u001b[39mn_atoms, ag2\u001b[38;5;241m.\u001b[39mn_atoms)\n",
      "\u001b[1;31mSelectionError\u001b[0m: Reference and trajectory atom selections do not contain the same number of atoms: \natoms:    N_ref=230, N_traj=397\nand also not the same number of residues:\nresidues: N_ref=230, N_traj=397"
     ]
    }
   ],
   "source": [
    "from MDAnalysis.analysis.align import AlignTraj\n",
    "from MDAnalysis.analysis.rms import RMSD\n",
    "\n",
    "# Align the predicted structure to the reference\n",
    "aligner = AlignTraj(u, ref, select=\"name CA and resid 0:397\")\n",
    "aligner.run()\n",
    "\n",
    "# Recalculate RMSD\n",
    "ref_ca = ref.select_atoms(\"name CA\")\n",
    "rmsd = RMSD(pred_trimmed, ref_ca)\n",
    "rmsd.run()\n",
    "\n",
    "# Print RMSD result\n",
    "print(\"RMSD:\", rmsd.rmsd)\n"
   ]
  },
  {
   "cell_type": "code",
   "execution_count": 39,
   "metadata": {},
   "outputs": [
    {
     "name": "stdout",
     "output_type": "stream",
     "text": [
      "Reference atom count: 224\n",
      "Predicted atom count: 227\n"
     ]
    }
   ],
   "source": [
    "# Print the number of selected atoms and residues for debugging\n",
    "print(f\"Reference atom count: {ref.select_atoms('name CA and resid 0:230').n_atoms}\")\n",
    "print(f\"Predicted atom count: {u.select_atoms('name CA and resid 0:230').n_atoms}\")\n",
    "\n",
    "print(f\"Reference residue count: {ref.select_atoms('name CA and resid 0:230').n_residues}\")\n",
    "print(f\"Predicted residue count: {u.select_atoms('name CA and resid 0:230').n_residues}\")\n"
   ]
  },
  {
   "cell_type": "code",
   "execution_count": 31,
   "metadata": {},
   "outputs": [],
   "source": [
    "# Select only the first 230 residues from the predicted structure\n",
    "pred_ca = u.select_atoms(\"name CA and resid 0:229\")\n",
    "ref_ca = ref.select_atoms(\"name CA and resid 0:229\")\n"
   ]
  },
  {
   "cell_type": "code",
   "execution_count": 32,
   "metadata": {},
   "outputs": [],
   "source": [
    "# Shift residue IDs in the predicted structure to start from 0\n",
    "for residue in u.residues:\n",
    "    residue.resid -= 1\n"
   ]
  },
  {
   "cell_type": "code",
   "execution_count": 40,
   "metadata": {},
   "outputs": [
    {
     "name": "stdout",
     "output_type": "stream",
     "text": [
      "Reference atom count: 224\n",
      "Predicted atom count: 227\n"
     ]
    }
   ],
   "source": [
    "print(f\"Reference atom count: {ref_ca.n_atoms}\")\n",
    "print(f\"Predicted atom count: {pred_ca.n_atoms}\")\n"
   ]
  },
  {
   "cell_type": "code",
   "execution_count": 41,
   "metadata": {},
   "outputs": [
    {
     "name": "stdout",
     "output_type": "stream",
     "text": [
      "Adjusted Predicted atom count: 224\n",
      "Reference atom count: 224\n"
     ]
    }
   ],
   "source": [
    "# Adjust the predicted structure to match the reference\n",
    "pred_ca = u.select_atoms(f\"name CA and resid 0:{ref_ca.n_residues - 1}\")\n",
    "\n",
    "# Confirm the adjusted atom counts\n",
    "print(f\"Adjusted Predicted atom count: {pred_ca.n_atoms}\")\n",
    "print(f\"Reference atom count: {ref_ca.n_atoms}\")\n"
   ]
  },
  {
   "cell_type": "code",
   "execution_count": 35,
   "metadata": {},
   "outputs": [
    {
     "name": "stdout",
     "output_type": "stream",
     "text": [
      "Updated Predicted Residue IDs: <ResidueGroup [<Residue HIS, -3>, <Residue MET, -2>, <Residue SER, -1>, <Residue LYS, 0>, <Residue GLY, 1>, <Residue GLU, 2>, <Residue GLU, 3>, <Residue LEU, 4>, <Residue PHE, 5>, <Residue THR, 6>]>\n"
     ]
    }
   ],
   "source": [
    "# Align residue IDs by shifting predicted structure IDs\n",
    "for residue in u.residues:\n",
    "    residue.resid -= 1\n",
    "\n",
    "# Verify the alignment\n",
    "print(\"Updated Predicted Residue IDs:\", u.select_atoms(\"name CA\").residues[:10])\n"
   ]
  },
  {
   "cell_type": "code",
   "execution_count": 42,
   "metadata": {},
   "outputs": [],
   "source": [
    "# Match residue IDs by shifting predicted residue IDs to align with the reference\n",
    "for residue in u.residues:\n",
    "    residue.resid -= 1\n"
   ]
  },
  {
   "cell_type": "code",
   "execution_count": 43,
   "metadata": {},
   "outputs": [
    {
     "name": "stdout",
     "output_type": "stream",
     "text": [
      "Trimmed Reference atom count: 224\n",
      "Trimmed Predicted atom count: 224\n",
      "Trimmed Reference residue count: 224\n",
      "Trimmed Predicted residue count: 224\n"
     ]
    }
   ],
   "source": [
    "print(f\"Trimmed Reference atom count: {ref_ca.n_atoms}\")\n",
    "print(f\"Trimmed Predicted atom count: {pred_ca.n_atoms}\")\n",
    "\n",
    "print(f\"Trimmed Reference residue count: {ref_ca.n_residues}\")\n",
    "print(f\"Trimmed Predicted residue count: {pred_ca.n_residues}\")\n"
   ]
  },
  {
   "cell_type": "code",
   "execution_count": 45,
   "metadata": {},
   "outputs": [
    {
     "name": "stdout",
     "output_type": "stream",
     "text": [
      "Reference atom names: ['CA' 'CA' 'CA' 'CA' 'CA' 'CA' 'CA' 'CA' 'CA' 'CA']\n",
      "Predicted atom names: ['CA' 'CA' 'CA' 'CA' 'CA' 'CA' 'CA' 'CA' 'CA' 'CA']\n"
     ]
    }
   ],
   "source": [
    "# Ensure atom names match\n",
    "print(\"Reference atom names:\", ref_ca.names[:10])\n",
    "print(\"Predicted atom names:\", pred_ca.names[:10])\n"
   ]
  },
  {
   "cell_type": "code",
   "execution_count": 49,
   "metadata": {},
   "outputs": [
    {
     "name": "stdout",
     "output_type": "stream",
     "text": [
      "RMSD: [[ 0.          0.         17.17856243]]\n"
     ]
    }
   ],
   "source": [
    "from MDAnalysis.analysis.rms import RMSD\n",
    "\n",
    "# Increase mass tolerance\n",
    "rmsd = RMSD(pred_ca, ref_ca, tol_mass=0.5)\n",
    "rmsd.run()\n",
    "\n",
    "print(\"RMSD:\", rmsd.rmsd)\n"
   ]
  },
  {
   "cell_type": "code",
   "execution_count": 47,
   "metadata": {},
   "outputs": [
    {
     "name": "stdout",
     "output_type": "stream",
     "text": [
      "Final RMSD: [[ 0.          0.         17.17856243]]\n"
     ]
    }
   ],
   "source": [
    "from MDAnalysis.analysis.rms import RMSD\n",
    "\n",
    "# Recalculate RMSD after adjustments\n",
    "rmsd = RMSD(pred_ca, ref_ca)\n",
    "rmsd.run()\n",
    "\n",
    "print(\"Final RMSD:\", rmsd.rmsd)\n"
   ]
  },
  {
   "cell_type": "code",
   "execution_count": 50,
   "metadata": {},
   "outputs": [
    {
     "ename": "SelectionError",
     "evalue": "Reference and trajectory atom selections do not contain the same number of atoms: \natoms:    N_ref=398, N_traj=397\nand also not the same number of residues:\nresidues: N_ref=398, N_traj=397",
     "output_type": "error",
     "traceback": [
      "\u001b[1;31m---------------------------------------------------------------------------\u001b[0m",
      "\u001b[1;31mSelectionError\u001b[0m                            Traceback (most recent call last)",
      "Cell \u001b[1;32mIn[50], line 4\u001b[0m\n\u001b[0;32m      1\u001b[0m \u001b[38;5;28;01mfrom\u001b[39;00m \u001b[38;5;21;01mMDAnalysis\u001b[39;00m\u001b[38;5;21;01m.\u001b[39;00m\u001b[38;5;21;01manalysis\u001b[39;00m\u001b[38;5;21;01m.\u001b[39;00m\u001b[38;5;21;01malign\u001b[39;00m \u001b[38;5;28;01mimport\u001b[39;00m AlignTraj\n\u001b[0;32m      3\u001b[0m \u001b[38;5;66;03m# Align predicted structure to reference\u001b[39;00m\n\u001b[1;32m----> 4\u001b[0m aligner \u001b[38;5;241m=\u001b[39m \u001b[43mAlignTraj\u001b[49m\u001b[43m(\u001b[49m\u001b[43mu\u001b[49m\u001b[43m,\u001b[49m\u001b[43m \u001b[49m\u001b[43mref\u001b[49m\u001b[43m,\u001b[49m\u001b[43m \u001b[49m\u001b[43mselect\u001b[49m\u001b[38;5;241;43m=\u001b[39;49m\u001b[38;5;124;43m\"\u001b[39;49m\u001b[38;5;124;43mname CA\u001b[39;49m\u001b[38;5;124;43m\"\u001b[39;49m\u001b[43m)\u001b[49m\n\u001b[0;32m      5\u001b[0m aligner\u001b[38;5;241m.\u001b[39mrun()\n\u001b[0;32m      7\u001b[0m \u001b[38;5;66;03m# Recalculate RMSD\u001b[39;00m\n",
      "File \u001b[1;32m~\\AppData\\Local\\Packages\\PythonSoftwareFoundation.Python.3.11_qbz5n2kfra8p0\\LocalCache\\local-packages\\Python311\\site-packages\\MDAnalysis\\analysis\\align.py:821\u001b[0m, in \u001b[0;36mAlignTraj.__init__\u001b[1;34m(self, mobile, reference, select, filename, prefix, weights, tol_mass, match_atoms, strict, force, in_memory, writer_kwargs, **kwargs)\u001b[0m\n\u001b[0;32m    818\u001b[0m \u001b[38;5;28mself\u001b[39m\u001b[38;5;241m.\u001b[39mfilename \u001b[38;5;241m=\u001b[39m filename\n\u001b[0;32m    820\u001b[0m natoms \u001b[38;5;241m=\u001b[39m \u001b[38;5;28mself\u001b[39m\u001b[38;5;241m.\u001b[39mmobile\u001b[38;5;241m.\u001b[39mn_atoms\n\u001b[1;32m--> 821\u001b[0m \u001b[38;5;28mself\u001b[39m\u001b[38;5;241m.\u001b[39mref_atoms, \u001b[38;5;28mself\u001b[39m\u001b[38;5;241m.\u001b[39mmobile_atoms \u001b[38;5;241m=\u001b[39m \u001b[43mget_matching_atoms\u001b[49m\u001b[43m(\u001b[49m\n\u001b[0;32m    822\u001b[0m \u001b[43m    \u001b[49m\u001b[38;5;28;43mself\u001b[39;49m\u001b[38;5;241;43m.\u001b[39;49m\u001b[43mref_atoms\u001b[49m\u001b[43m,\u001b[49m\u001b[43m \u001b[49m\u001b[38;5;28;43mself\u001b[39;49m\u001b[38;5;241;43m.\u001b[39;49m\u001b[43mmobile_atoms\u001b[49m\u001b[43m,\u001b[49m\u001b[43m \u001b[49m\u001b[43mtol_mass\u001b[49m\u001b[38;5;241;43m=\u001b[39;49m\u001b[43mtol_mass\u001b[49m\u001b[43m,\u001b[49m\n\u001b[0;32m    823\u001b[0m \u001b[43m    \u001b[49m\u001b[43mstrict\u001b[49m\u001b[38;5;241;43m=\u001b[39;49m\u001b[43mstrict\u001b[49m\u001b[43m,\u001b[49m\u001b[43m \u001b[49m\u001b[43mmatch_atoms\u001b[49m\u001b[38;5;241;43m=\u001b[39;49m\u001b[43mmatch_atoms\u001b[49m\u001b[43m)\u001b[49m\n\u001b[0;32m    825\u001b[0m \u001b[38;5;28;01mif\u001b[39;00m writer_kwargs \u001b[38;5;129;01mis\u001b[39;00m \u001b[38;5;28;01mNone\u001b[39;00m:\n\u001b[0;32m    826\u001b[0m     writer_kwargs \u001b[38;5;241m=\u001b[39m {}\n",
      "File \u001b[1;32m~\\AppData\\Local\\Packages\\PythonSoftwareFoundation.Python.3.11_qbz5n2kfra8p0\\LocalCache\\local-packages\\Python311\\site-packages\\MDAnalysis\\analysis\\align.py:1553\u001b[0m, in \u001b[0;36mget_matching_atoms\u001b[1;34m(ag1, ag2, tol_mass, strict, match_atoms)\u001b[0m\n\u001b[0;32m   1545\u001b[0m     errmsg \u001b[38;5;241m=\u001b[39m (\u001b[38;5;124m\"\u001b[39m\u001b[38;5;124mReference and trajectory atom selections do not contain \u001b[39m\u001b[38;5;124m\"\u001b[39m\n\u001b[0;32m   1546\u001b[0m             \u001b[38;5;124m\"\u001b[39m\u001b[38;5;124mthe same number of atoms: \u001b[39m\u001b[38;5;130;01m\\n\u001b[39;00m\u001b[38;5;124m\"\u001b[39m\n\u001b[0;32m   1547\u001b[0m             \u001b[38;5;124m\"\u001b[39m\u001b[38;5;124matoms:    N_ref=\u001b[39m\u001b[38;5;132;01m{0}\u001b[39;00m\u001b[38;5;124m, N_traj=\u001b[39m\u001b[38;5;132;01m{1}\u001b[39;00m\u001b[38;5;130;01m\\n\u001b[39;00m\u001b[38;5;124m\"\u001b[39m\n\u001b[1;32m   (...)\u001b[0m\n\u001b[0;32m   1550\u001b[0m                 ag1\u001b[38;5;241m.\u001b[39mn_atoms, ag2\u001b[38;5;241m.\u001b[39mn_atoms,\n\u001b[0;32m   1551\u001b[0m                 ag1\u001b[38;5;241m.\u001b[39mn_residues, ag2\u001b[38;5;241m.\u001b[39mn_residues)\n\u001b[0;32m   1552\u001b[0m     logger\u001b[38;5;241m.\u001b[39merror(errmsg)\n\u001b[1;32m-> 1553\u001b[0m     \u001b[38;5;28;01mraise\u001b[39;00m SelectionError(errmsg)\n\u001b[0;32m   1554\u001b[0m \u001b[38;5;28;01melse\u001b[39;00m:\n\u001b[0;32m   1555\u001b[0m     msg \u001b[38;5;241m=\u001b[39m (\u001b[38;5;124m\"\u001b[39m\u001b[38;5;124mReference and trajectory atom selections do not contain \u001b[39m\u001b[38;5;124m\"\u001b[39m\n\u001b[0;32m   1556\u001b[0m            \u001b[38;5;124m\"\u001b[39m\u001b[38;5;124mthe same number of atoms: \u001b[39m\u001b[38;5;130;01m\\n\u001b[39;00m\u001b[38;5;124m\"\u001b[39m\n\u001b[0;32m   1557\u001b[0m            \u001b[38;5;124m\"\u001b[39m\u001b[38;5;124matoms:    N_ref=\u001b[39m\u001b[38;5;132;01m{0}\u001b[39;00m\u001b[38;5;124m, N_traj=\u001b[39m\u001b[38;5;132;01m{1}\u001b[39;00m\u001b[38;5;124m\"\u001b[39m)\u001b[38;5;241m.\u001b[39mformat(\n\u001b[0;32m   1558\u001b[0m                ag1\u001b[38;5;241m.\u001b[39mn_atoms, ag2\u001b[38;5;241m.\u001b[39mn_atoms)\n",
      "\u001b[1;31mSelectionError\u001b[0m: Reference and trajectory atom selections do not contain the same number of atoms: \natoms:    N_ref=398, N_traj=397\nand also not the same number of residues:\nresidues: N_ref=398, N_traj=397"
     ]
    }
   ],
   "source": [
    "from MDAnalysis.analysis.align import AlignTraj\n",
    "\n",
    "# Align predicted structure to reference\n",
    "aligner = AlignTraj(u, ref, select=\"name CA\")\n",
    "aligner.run()\n",
    "\n",
    "# Recalculate RMSD\n",
    "from MDAnalysis.analysis.rms import RMSD\n",
    "\n",
    "rmsd = RMSD(pred_ca, ref_ca)\n",
    "rmsd.run()\n",
    "print(\"Aligned RMSD:\", rmsd.rmsd)\n"
   ]
  },
  {
   "cell_type": "code",
   "execution_count": 51,
   "metadata": {},
   "outputs": [
    {
     "name": "stdout",
     "output_type": "stream",
     "text": [
      "Regional RMSD: [[ 0.          0.         13.03410778]]\n"
     ]
    }
   ],
   "source": [
    "# Select specific residues or regions (e.g., residues 10 to 50)\n",
    "ref_region = ref.select_atoms(\"name CA and resid 10:50\")\n",
    "pred_region = u.select_atoms(\"name CA and resid 10:50\")\n",
    "\n",
    "# Recalculate RMSD for the region\n",
    "rmsd = RMSD(pred_region, ref_region)\n",
    "rmsd.run()\n",
    "print(\"Regional RMSD:\", rmsd.rmsd)\n"
   ]
  },
  {
   "cell_type": "code",
   "execution_count": 52,
   "metadata": {},
   "outputs": [],
   "source": [
    "# Save the aligned predicted structure\n",
    "u.atoms.write(\"aligned_predicted_structure.pdb\")\n",
    "ref.atoms.write(\"aligned_reference_structure.pdb\")\n"
   ]
  },
  {
   "cell_type": "code",
   "execution_count": 53,
   "metadata": {},
   "outputs": [
    {
     "name": "stdout",
     "output_type": "stream",
     "text": [
      "Per-residue RMSD: 17.178562428518266\n"
     ]
    }
   ],
   "source": [
    "from MDAnalysis.analysis.rms import rmsd\n",
    "\n",
    "# Calculate RMSD for each residue\n",
    "ref_positions = ref_ca.positions\n",
    "pred_positions = pred_ca.positions\n",
    "\n",
    "residue_rmsd = rmsd(pred_positions, ref_positions, superposition=True)\n",
    "print(\"Per-residue RMSD:\", residue_rmsd)\n"
   ]
  },
  {
   "cell_type": "code",
   "execution_count": 54,
   "metadata": {},
   "outputs": [
    {
     "name": "stdout",
     "output_type": "stream",
     "text": [
      "Reference Sequence: HISMETSERLYSGLYGLUGLULEUPHETHRGLYVALVALPROILELEUVALGLULEUASPGLYASPVALASNGLYHISLYSPHESERVALSERGLYGLUGLYGLUGLYASPALATHRTYRGLYLYSLEUTHRLEULYSPHEILECYSTHRTHRGLYLYSLEUPROVALPROTRPPROTHRLEUVALTHRTHRPHEVALGLNCYSPHEALAARGTYRPROASPHISMETLYSGLNHISASPPHEPHELYSSERALAMETPROGLUGLYTYRVALGLNGLUARGTHRILEPHEPHELYSASPASPGLYASNTYRLYSTHRARGALAGLUVALLYSPHEGLUGLYASPTHRLEUVALASNARGILEGLULEULYSGLYILEASPPHELYSGLUASPGLYASNILELEUGLYHISLYSLEUGLUTYRASNTYRASNSERHISASNVALTYRILEMETALAASPLYSGLNLYSASNGLYILELYSVALASNPHELYSILEARGHISASNILEGLUASPGLYSERVALGLNLEUALAASPHISTYRGLNGLNASNTHRPROILEGLYASPGLYPROVALLEULEUPROASPASNHISTYRLEUSERTHRGLNSERALALEUSERLYSASPPROASNGLULYSARGASPHISMETVALLEULEUGLUPHEVALTHRALA\n",
      "Predicted Sequence: LYSGLYGLUGLULEUPHETHRGLYVALVALPROILELEUVALGLULEUASPGLYASPVALASNGLYHISLYSPHESERVALSERGLYGLUGLYGLUGLYASPALATHRTYRGLYLYSLEUTHRLEULYSPHEILECYSTHRTHRGLYLYSLEUPROVALPROTRPPROTHRLEUVALTHRTHRPHECR2VALGLNCYSPHEALAARGTYRPROASPHISMETLYSGLNHISASPPHEPHELYSSERALAMETPROGLUGLYTYRVALGLNGLUARGTHRILEPHEPHELYSASPASPGLYASNTYRLYSTHRARGALAGLUVALLYSPHEGLUGLYASPTHRLEUVALASNARGILEGLULEULYSGLYILEASPPHELYSGLUASPGLYASNILELEUGLYHISLYSLEUGLUTYRASNTYRASNSERHISASNVALTYRILEMETALAASPLYSGLNLYSASNGLYILELYSVALASNPHELYSILEARGHISASNILEGLUASPGLYSERVALGLNLEUALAASPHISTYRGLNGLNASNTHRPROILEGLYASPGLYPROVALLEULEUPROASPASNHISTYRLEUSERTHRGLNSERALALEUSERLYSASPPROASNGLULYSARGASPHISMETVALLEULEUGLUPHEVALTHRALAALAGLY\n"
     ]
    }
   ],
   "source": [
    "# Compare sequences\n",
    "ref_seq = \"\".join(ref_ca.residues.resnames)\n",
    "pred_seq = \"\".join(pred_ca.residues.resnames)\n",
    "\n",
    "print(\"Reference Sequence:\", ref_seq)\n",
    "print(\"Predicted Sequence:\", pred_seq)\n"
   ]
  },
  {
   "cell_type": "code",
   "execution_count": null,
   "metadata": {},
   "outputs": [],
   "source": [
    "# Save structures for visualization\n",
    "ref.write(\"reference_structure.pdb\")\n",
    "u.write(\"predicted_structure.pdb\")\n"
   ]
  },
  {
   "cell_type": "code",
   "execution_count": null,
   "metadata": {},
   "outputs": [],
   "source": []
  }
 ],
 "metadata": {
  "kernelspec": {
   "display_name": "Python 3",
   "language": "python",
   "name": "python3"
  },
  "language_info": {
   "codemirror_mode": {
    "name": "ipython",
    "version": 3
   },
   "file_extension": ".py",
   "mimetype": "text/x-python",
   "name": "python",
   "nbconvert_exporter": "python",
   "pygments_lexer": "ipython3",
   "version": "3.11.9"
  }
 },
 "nbformat": 4,
 "nbformat_minor": 2
}
