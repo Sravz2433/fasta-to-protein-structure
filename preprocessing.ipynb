{
 "cells": [
  {
   "cell_type": "code",
   "execution_count": 14,
   "metadata": {},
   "outputs": [
    {
     "name": "stdout",
     "output_type": "stream",
     "text": [
      "Processed sequences saved to preprocessed/4jrb_sequences.npy\n"
     ]
    }
   ],
   "source": [
    "import numpy as np\n",
    "\n",
    "def preprocess_fasta(fasta_file, save_path=\"processed_sequences.npy\"):\n",
    "    \"\"\"\n",
    "    Reads a FASTA file and encodes amino acid sequences into numerical indices.\n",
    "\n",
    "    Args:\n",
    "        fasta_file (str): Path to the input FASTA file.\n",
    "        save_path (str): Path to save the processed sequences as a .npy file.\n",
    "\n",
    "    Returns:\n",
    "        sequences_encoded (list): List of encoded sequences.\n",
    "    \"\"\"\n",
    "    amino_acids = \"ACDEFGHIKLMNPQRSTVWY\"\n",
    "    aa_to_idx = {aa: i for i, aa in enumerate(amino_acids)}\n",
    "\n",
    "    sequences = []\n",
    "    with open(fasta_file, 'r') as f:\n",
    "        current_sequence = \"\"\n",
    "        for line in f:\n",
    "            if line.startswith(\">\"):\n",
    "                if current_sequence:\n",
    "                    sequences.append(current_sequence)\n",
    "                    current_sequence = \"\"\n",
    "            else:\n",
    "                current_sequence += line.strip()\n",
    "        if current_sequence:\n",
    "            sequences.append(current_sequence)\n",
    "\n",
    "    # Encode sequences\n",
    "    sequences_encoded = []\n",
    "    for seq in sequences:\n",
    "        encoded_seq = [aa_to_idx[aa] for aa in seq]\n",
    "        sequences_encoded.append(encoded_seq)\n",
    "\n",
    "    # Save to a NumPy file\n",
    "    np.save(save_path, sequences_encoded)\n",
    "    print(f\"Processed sequences saved to {save_path}\")\n",
    "    return sequences_encoded\n",
    "\n",
    "# Example usage\n",
    "fasta_file = \"data/rcsb_pdb_4JRB.fasta\"\n",
    "preprocessed_sequences = preprocess_fasta(fasta_file, save_path=\"preprocessed/4jrb_sequences.npy\")\n"
   ]
  },
  {
   "cell_type": "code",
   "execution_count": 15,
   "metadata": {},
   "outputs": [
    {
     "name": "stdout",
     "output_type": "stream",
     "text": [
      "Processed coordinates saved to preprocessed/4jrb_coordinates.npy\n"
     ]
    }
   ],
   "source": [
    "import numpy as np\n",
    "from Bio.PDB import PDBParser\n",
    "\n",
    "def extract_coordinates(pdb_file, save_path=\"processed_coordinates.npy\"):\n",
    "    \"\"\"\n",
    "    Extracts 3D atomic coordinates (x, y, z) for alpha carbons from a PDB file.\n",
    "\n",
    "    Args:\n",
    "        pdb_file (str): Path to the input PDB file.\n",
    "        save_path (str): Path to save the extracted coordinates as a .npy file.\n",
    "\n",
    "    Returns:\n",
    "        coordinates (list): List of 3D coordinates for each residue.\n",
    "    \"\"\"\n",
    "    parser = PDBParser(QUIET=True)\n",
    "    structure = parser.get_structure(\"protein\", pdb_file)\n",
    "\n",
    "    coordinates = []\n",
    "    for model in structure:\n",
    "        for chain in model:\n",
    "            for residue in chain:\n",
    "                if \"CA\" in residue:  # Alpha carbon\n",
    "                    atom = residue[\"CA\"]\n",
    "                    coordinates.append(atom.coord)  # (x, y, z)\n",
    "\n",
    "    # Save coordinates as a NumPy array\n",
    "    np.save(save_path, np.array(coordinates))\n",
    "    print(f\"Processed coordinates saved to {save_path}\")\n",
    "    return coordinates\n",
    "\n",
    "# Example usage\n",
    "pdb_file = \"data/4jrb.pdb\"\n",
    "preprocessed_coordinates = extract_coordinates(pdb_file, save_path=\"preprocessed/4jrb_coordinates.npy\")\n"
   ]
  },
  {
   "cell_type": "code",
   "execution_count": 16,
   "metadata": {},
   "outputs": [
    {
     "data": {
      "text/plain": [
       "398"
      ]
     },
     "execution_count": 16,
     "metadata": {},
     "output_type": "execute_result"
    }
   ],
   "source": [
    "coordinates_file_path = \"preprocessed/4jrb_coordinates.npy\"\n",
    "coordinates = np.load(coordinates_file_path, allow_pickle=True)\n",
    "\n",
    "# Count the number of coordinates\n",
    "num_coordinates = len(coordinates)\n",
    "num_coordinates"
   ]
  },
  {
   "cell_type": "code",
   "execution_count": 17,
   "metadata": {},
   "outputs": [
    {
     "name": "stdout",
     "output_type": "stream",
     "text": [
      "Combined dataset saved to JSON/4jrb_dataset.json\n"
     ]
    }
   ],
   "source": [
    "import numpy as np\n",
    "import json\n",
    "\n",
    "def combine_data(sequence_file, coordinate_file, save_path=\"dataset.json\"):\n",
    "    \"\"\"\n",
    "    Combines encoded sequences and 3D coordinates into a single dataset and saves as JSON.\n",
    "\n",
    "    Args:\n",
    "        sequence_file (str): Path to the .npy file containing encoded sequences.\n",
    "        coordinate_file (str): Path to the .npy file containing 3D coordinates.\n",
    "        save_path (str): Path to save the combined dataset as a JSON file.\n",
    "\n",
    "    Returns:\n",
    "        dataset (list): List of dictionaries {residue, coordinates}.\n",
    "    \"\"\"\n",
    "    # Load the sequence and coordinates\n",
    "    sequences = np.load(sequence_file, allow_pickle=True).flatten()  # Ensure sequence is flattened\n",
    "    coordinates = np.load(coordinate_file, allow_pickle=True)\n",
    "\n",
    "    # Trim sequence if necessary to match the number of coordinates\n",
    "    sequence_trimmed = sequences[:len(coordinates)]  # Ensure lengths match\n",
    "\n",
    "    if len(sequence_trimmed) != len(coordinates):\n",
    "        raise ValueError(\"The number of sequences and coordinate entries must match!\")\n",
    "\n",
    "    # Combine the sequence and coordinates into a list of dictionaries\n",
    "    dataset = [{\"residue\": int(seq), \"coordinates\": coord.tolist()} for seq, coord in zip(sequence_trimmed, coordinates)]\n",
    "\n",
    "    # Save as a JSON file\n",
    "    with open(save_path, \"w\") as f:\n",
    "        json.dump(dataset, f, indent=4)\n",
    "    print(f\"Combined dataset saved to {save_path}\")\n",
    "    return dataset\n",
    "\n",
    "# Example usage\n",
    "sequence_file = \"preprocessed/4jrb_sequences.npy\"\n",
    "coordinate_file = \"preprocessed/4jrb_coordinates.npy\"\n",
    "combined_dataset = combine_data(sequence_file, coordinate_file, save_path=\"JSON/4jrb_dataset.json\")\n"
   ]
  }
 ],
 "metadata": {
  "kernelspec": {
   "display_name": "Python 3",
   "language": "python",
   "name": "python3"
  },
  "language_info": {
   "codemirror_mode": {
    "name": "ipython",
    "version": 3
   },
   "file_extension": ".py",
   "mimetype": "text/x-python",
   "name": "python",
   "nbconvert_exporter": "python",
   "pygments_lexer": "ipython3",
   "version": "3.11.9"
  }
 },
 "nbformat": 4,
 "nbformat_minor": 2
}
